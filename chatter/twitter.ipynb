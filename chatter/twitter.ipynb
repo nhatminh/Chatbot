{
 "cells": [
  {
   "cell_type": "code",
   "execution_count": 1,
   "metadata": {},
   "outputs": [],
   "source": [
    "import pandas as pd\n",
    "import sqlite3\n",
    "path = 'data/twcs.csv'\n",
    "db = sqlite3.connect(path)"
   ]
  },
  {
   "cell_type": "code",
   "execution_count": 4,
   "metadata": {},
   "outputs": [
    {
     "data": {
      "text/html": [
       "<div>\n",
       "<style scoped>\n",
       "    .dataframe tbody tr th:only-of-type {\n",
       "        vertical-align: middle;\n",
       "    }\n",
       "\n",
       "    .dataframe tbody tr th {\n",
       "        vertical-align: top;\n",
       "    }\n",
       "\n",
       "    .dataframe thead th {\n",
       "        text-align: right;\n",
       "    }\n",
       "</style>\n",
       "<table border=\"1\" class=\"dataframe\">\n",
       "  <thead>\n",
       "    <tr style=\"text-align: right;\">\n",
       "      <th></th>\n",
       "      <th>tweet_id</th>\n",
       "      <th>author_id</th>\n",
       "      <th>inbound</th>\n",
       "      <th>created_at</th>\n",
       "      <th>text</th>\n",
       "      <th>response_tweet_id</th>\n",
       "      <th>in_response_to_tweet_id</th>\n",
       "    </tr>\n",
       "  </thead>\n",
       "  <tbody>\n",
       "    <tr>\n",
       "      <th>0</th>\n",
       "      <td>1</td>\n",
       "      <td>sprintcare</td>\n",
       "      <td>False</td>\n",
       "      <td>Tue Oct 31 22:10:47 +0000 2017</td>\n",
       "      <td>@115712 I understand. I would like to assist y...</td>\n",
       "      <td>2</td>\n",
       "      <td>3.0</td>\n",
       "    </tr>\n",
       "    <tr>\n",
       "      <th>1</th>\n",
       "      <td>2</td>\n",
       "      <td>115712</td>\n",
       "      <td>True</td>\n",
       "      <td>Tue Oct 31 22:11:45 +0000 2017</td>\n",
       "      <td>@sprintcare and how do you propose we do that</td>\n",
       "      <td>NaN</td>\n",
       "      <td>1.0</td>\n",
       "    </tr>\n",
       "    <tr>\n",
       "      <th>2</th>\n",
       "      <td>3</td>\n",
       "      <td>115712</td>\n",
       "      <td>True</td>\n",
       "      <td>Tue Oct 31 22:08:27 +0000 2017</td>\n",
       "      <td>@sprintcare I have sent several private messag...</td>\n",
       "      <td>1</td>\n",
       "      <td>4.0</td>\n",
       "    </tr>\n",
       "    <tr>\n",
       "      <th>3</th>\n",
       "      <td>4</td>\n",
       "      <td>sprintcare</td>\n",
       "      <td>False</td>\n",
       "      <td>Tue Oct 31 21:54:49 +0000 2017</td>\n",
       "      <td>@115712 Please send us a Private Message so th...</td>\n",
       "      <td>3</td>\n",
       "      <td>5.0</td>\n",
       "    </tr>\n",
       "    <tr>\n",
       "      <th>4</th>\n",
       "      <td>5</td>\n",
       "      <td>115712</td>\n",
       "      <td>True</td>\n",
       "      <td>Tue Oct 31 21:49:35 +0000 2017</td>\n",
       "      <td>@sprintcare I did.</td>\n",
       "      <td>4</td>\n",
       "      <td>6.0</td>\n",
       "    </tr>\n",
       "  </tbody>\n",
       "</table>\n",
       "</div>"
      ],
      "text/plain": [
       "   tweet_id   author_id  inbound                      created_at  \\\n",
       "0         1  sprintcare    False  Tue Oct 31 22:10:47 +0000 2017   \n",
       "1         2      115712     True  Tue Oct 31 22:11:45 +0000 2017   \n",
       "2         3      115712     True  Tue Oct 31 22:08:27 +0000 2017   \n",
       "3         4  sprintcare    False  Tue Oct 31 21:54:49 +0000 2017   \n",
       "4         5      115712     True  Tue Oct 31 21:49:35 +0000 2017   \n",
       "\n",
       "                                                text response_tweet_id  \\\n",
       "0  @115712 I understand. I would like to assist y...                 2   \n",
       "1      @sprintcare and how do you propose we do that               NaN   \n",
       "2  @sprintcare I have sent several private messag...                 1   \n",
       "3  @115712 Please send us a Private Message so th...                 3   \n",
       "4                                 @sprintcare I did.                 4   \n",
       "\n",
       "   in_response_to_tweet_id  \n",
       "0                      3.0  \n",
       "1                      1.0  \n",
       "2                      4.0  \n",
       "3                      5.0  \n",
       "4                      6.0  "
      ]
     },
     "execution_count": 4,
     "metadata": {},
     "output_type": "execute_result"
    }
   ],
   "source": [
    "df = pd.read_csv(path)\n",
    "df.head()"
   ]
  },
  {
   "cell_type": "code",
   "execution_count": 17,
   "metadata": {},
   "outputs": [
    {
     "data": {
      "text/plain": [
       "tweet_id                         0\n",
       "author_id                        0\n",
       "inbound                          0\n",
       "created_at                       0\n",
       "text                             0\n",
       "response_tweet_id          1040629\n",
       "in_response_to_tweet_id     794335\n",
       "dtype: int64"
      ]
     },
     "execution_count": 17,
     "metadata": {},
     "output_type": "execute_result"
    }
   ],
   "source": [
    "df.isnull().sum()"
   ]
  },
  {
   "cell_type": "code",
   "execution_count": 8,
   "metadata": {},
   "outputs": [
    {
     "name": "stdout",
     "output_type": "stream",
     "text": [
      "<class 'pandas.core.frame.DataFrame'>\n",
      "Int64Index: 2811774 entries, 2496505 to 346323\n",
      "Data columns (total 7 columns):\n",
      " #   Column                   Dtype  \n",
      "---  ------                   -----  \n",
      " 0   tweet_id                 int64  \n",
      " 1   author_id                object \n",
      " 2   inbound                  bool   \n",
      " 3   created_at               object \n",
      " 4   text                     object \n",
      " 5   response_tweet_id        object \n",
      " 6   in_response_to_tweet_id  float64\n",
      "dtypes: bool(1), float64(1), int64(1), object(4)\n",
      "memory usage: 152.8+ MB\n"
     ]
    }
   ],
   "source": [
    "df.info()"
   ]
  },
  {
   "cell_type": "code",
   "execution_count": 9,
   "metadata": {},
   "outputs": [
    {
     "data": {
      "text/html": [
       "<div>\n",
       "<style scoped>\n",
       "    .dataframe tbody tr th:only-of-type {\n",
       "        vertical-align: middle;\n",
       "    }\n",
       "\n",
       "    .dataframe tbody tr th {\n",
       "        vertical-align: top;\n",
       "    }\n",
       "\n",
       "    .dataframe thead th {\n",
       "        text-align: right;\n",
       "    }\n",
       "</style>\n",
       "<table border=\"1\" class=\"dataframe\">\n",
       "  <thead>\n",
       "    <tr style=\"text-align: right;\">\n",
       "      <th></th>\n",
       "      <th>tweet_id</th>\n",
       "      <th>author_id</th>\n",
       "      <th>inbound</th>\n",
       "      <th>created_at</th>\n",
       "      <th>text</th>\n",
       "      <th>response_tweet_id</th>\n",
       "      <th>in_response_to_tweet_id</th>\n",
       "    </tr>\n",
       "  </thead>\n",
       "  <tbody>\n",
       "    <tr>\n",
       "      <th>2496505</th>\n",
       "      <td>2666295</td>\n",
       "      <td>751178</td>\n",
       "      <td>True</td>\n",
       "      <td>2016-04-01 17:37:48+00:00</td>\n",
       "      <td>@AskSeagate Same issue Seagate. Is there a sol...</td>\n",
       "      <td>2666294</td>\n",
       "      <td>2666296.0</td>\n",
       "    </tr>\n",
       "    <tr>\n",
       "      <th>2496504</th>\n",
       "      <td>2666294</td>\n",
       "      <td>AskSeagate</td>\n",
       "      <td>False</td>\n",
       "      <td>2016-04-01 18:22:40+00:00</td>\n",
       "      <td>@751178 Pls give us more clarification on your...</td>\n",
       "      <td>2666293</td>\n",
       "      <td>2666295.0</td>\n",
       "    </tr>\n",
       "    <tr>\n",
       "      <th>2496503</th>\n",
       "      <td>2666293</td>\n",
       "      <td>751178</td>\n",
       "      <td>True</td>\n",
       "      <td>2016-04-01 18:25:52+00:00</td>\n",
       "      <td>@AskSeagate Bootstrap and media server daemon ...</td>\n",
       "      <td>2666291</td>\n",
       "      <td>2666294.0</td>\n",
       "    </tr>\n",
       "    <tr>\n",
       "      <th>2496501</th>\n",
       "      <td>2666291</td>\n",
       "      <td>AskSeagate</td>\n",
       "      <td>False</td>\n",
       "      <td>2016-04-01 19:53:33+00:00</td>\n",
       "      <td>@751178 Pls use the link bellow to download th...</td>\n",
       "      <td>2666292</td>\n",
       "      <td>2666293.0</td>\n",
       "    </tr>\n",
       "    <tr>\n",
       "      <th>352823</th>\n",
       "      <td>402549</td>\n",
       "      <td>211231</td>\n",
       "      <td>True</td>\n",
       "      <td>2015-04-03 19:57:41+00:00</td>\n",
       "      <td>@AsurionCares How do I get a receipt of my mon...</td>\n",
       "      <td>402547</td>\n",
       "      <td>NaN</td>\n",
       "    </tr>\n",
       "  </tbody>\n",
       "</table>\n",
       "</div>"
      ],
      "text/plain": [
       "         tweet_id   author_id  inbound                created_at  \\\n",
       "2496505   2666295      751178     True 2016-04-01 17:37:48+00:00   \n",
       "2496504   2666294  AskSeagate    False 2016-04-01 18:22:40+00:00   \n",
       "2496503   2666293      751178     True 2016-04-01 18:25:52+00:00   \n",
       "2496501   2666291  AskSeagate    False 2016-04-01 19:53:33+00:00   \n",
       "352823     402549      211231     True 2015-04-03 19:57:41+00:00   \n",
       "\n",
       "                                                      text response_tweet_id  \\\n",
       "2496505  @AskSeagate Same issue Seagate. Is there a sol...           2666294   \n",
       "2496504  @751178 Pls give us more clarification on your...           2666293   \n",
       "2496503  @AskSeagate Bootstrap and media server daemon ...           2666291   \n",
       "2496501  @751178 Pls use the link bellow to download th...           2666292   \n",
       "352823   @AsurionCares How do I get a receipt of my mon...            402547   \n",
       "\n",
       "         in_response_to_tweet_id  \n",
       "2496505                2666296.0  \n",
       "2496504                2666295.0  \n",
       "2496503                2666294.0  \n",
       "2496501                2666293.0  \n",
       "352823                       NaN  "
      ]
     },
     "execution_count": 9,
     "metadata": {},
     "output_type": "execute_result"
    }
   ],
   "source": [
    "df['created_at'] = pd.to_datetime(df['created_at'])\n",
    "df.head()"
   ]
  },
  {
   "cell_type": "code",
   "execution_count": 10,
   "metadata": {},
   "outputs": [],
   "source": [
    "df = df.sort_values(by = 'created_at')"
   ]
  },
  {
   "cell_type": "code",
   "execution_count": 11,
   "metadata": {},
   "outputs": [
    {
     "data": {
      "text/html": [
       "<div>\n",
       "<style scoped>\n",
       "    .dataframe tbody tr th:only-of-type {\n",
       "        vertical-align: middle;\n",
       "    }\n",
       "\n",
       "    .dataframe tbody tr th {\n",
       "        vertical-align: top;\n",
       "    }\n",
       "\n",
       "    .dataframe thead th {\n",
       "        text-align: right;\n",
       "    }\n",
       "</style>\n",
       "<table border=\"1\" class=\"dataframe\">\n",
       "  <thead>\n",
       "    <tr style=\"text-align: right;\">\n",
       "      <th></th>\n",
       "      <th>tweet_id</th>\n",
       "      <th>author_id</th>\n",
       "      <th>inbound</th>\n",
       "      <th>created_at</th>\n",
       "      <th>text</th>\n",
       "      <th>response_tweet_id</th>\n",
       "      <th>in_response_to_tweet_id</th>\n",
       "    </tr>\n",
       "  </thead>\n",
       "  <tbody>\n",
       "    <tr>\n",
       "      <th>706552</th>\n",
       "      <td>790341</td>\n",
       "      <td>SouthwestAir</td>\n",
       "      <td>False</td>\n",
       "      <td>2008-05-08 20:13:59+00:00</td>\n",
       "      <td>@34622  Have FUN at the lecture tonight!  Tell...</td>\n",
       "      <td>790326</td>\n",
       "      <td>790342.0</td>\n",
       "    </tr>\n",
       "    <tr>\n",
       "      <th>706551</th>\n",
       "      <td>790326</td>\n",
       "      <td>308466</td>\n",
       "      <td>True</td>\n",
       "      <td>2008-05-08 21:04:16+00:00</td>\n",
       "      <td>@SouthwestAir Can you pls enter the HI market ...</td>\n",
       "      <td>790327,790328,790325,790329,790330,790331,7903...</td>\n",
       "      <td>790341.0</td>\n",
       "    </tr>\n",
       "    <tr>\n",
       "      <th>1604529</th>\n",
       "      <td>1757947</td>\n",
       "      <td>529256</td>\n",
       "      <td>True</td>\n",
       "      <td>2010-02-16 15:49:47+00:00</td>\n",
       "      <td>KTAR.com - Foreclosures still big problem in V...</td>\n",
       "      <td>1757946</td>\n",
       "      <td>NaN</td>\n",
       "    </tr>\n",
       "    <tr>\n",
       "      <th>2129896</th>\n",
       "      <td>2291020</td>\n",
       "      <td>665443</td>\n",
       "      <td>True</td>\n",
       "      <td>2010-03-31 15:24:29+00:00</td>\n",
       "      <td>@665445 Do you know if Carl's Jr serves lunch ...</td>\n",
       "      <td>2291018</td>\n",
       "      <td>NaN</td>\n",
       "    </tr>\n",
       "    <tr>\n",
       "      <th>2129894</th>\n",
       "      <td>2291018</td>\n",
       "      <td>CarlsJr</td>\n",
       "      <td>False</td>\n",
       "      <td>2010-03-31 16:53:27+00:00</td>\n",
       "      <td>@665443 We serve lunch all day!</td>\n",
       "      <td>2291019</td>\n",
       "      <td>2291020.0</td>\n",
       "    </tr>\n",
       "  </tbody>\n",
       "</table>\n",
       "</div>"
      ],
      "text/plain": [
       "         tweet_id     author_id  inbound                created_at  \\\n",
       "706552     790341  SouthwestAir    False 2008-05-08 20:13:59+00:00   \n",
       "706551     790326        308466     True 2008-05-08 21:04:16+00:00   \n",
       "1604529   1757947        529256     True 2010-02-16 15:49:47+00:00   \n",
       "2129896   2291020        665443     True 2010-03-31 15:24:29+00:00   \n",
       "2129894   2291018       CarlsJr    False 2010-03-31 16:53:27+00:00   \n",
       "\n",
       "                                                      text  \\\n",
       "706552   @34622  Have FUN at the lecture tonight!  Tell...   \n",
       "706551   @SouthwestAir Can you pls enter the HI market ...   \n",
       "1604529  KTAR.com - Foreclosures still big problem in V...   \n",
       "2129896  @665445 Do you know if Carl's Jr serves lunch ...   \n",
       "2129894                    @665443 We serve lunch all day!   \n",
       "\n",
       "                                         response_tweet_id  \\\n",
       "706552                                              790326   \n",
       "706551   790327,790328,790325,790329,790330,790331,7903...   \n",
       "1604529                                            1757946   \n",
       "2129896                                            2291018   \n",
       "2129894                                            2291019   \n",
       "\n",
       "         in_response_to_tweet_id  \n",
       "706552                  790342.0  \n",
       "706551                  790341.0  \n",
       "1604529                      NaN  \n",
       "2129896                      NaN  \n",
       "2129894                2291020.0  "
      ]
     },
     "execution_count": 11,
     "metadata": {},
     "output_type": "execute_result"
    }
   ],
   "source": [
    "df.head()"
   ]
  },
  {
   "cell_type": "code",
   "execution_count": 13,
   "metadata": {},
   "outputs": [
    {
     "data": {
      "text/plain": [
       "2811774"
      ]
     },
     "execution_count": 13,
     "metadata": {},
     "output_type": "execute_result"
    }
   ],
   "source": [
    "len(df)"
   ]
  },
  {
   "cell_type": "code",
   "execution_count": 19,
   "metadata": {},
   "outputs": [
    {
     "ename": "AttributeError",
     "evalue": "'DataFrame' object has no attribute 'is_from_me'",
     "output_type": "error",
     "traceback": [
      "\u001b[1;31m---------------------------------------------------------------------------\u001b[0m",
      "\u001b[1;31mAttributeError\u001b[0m                            Traceback (most recent call last)",
      "\u001b[1;32m<ipython-input-19-d230f816ce33>\u001b[0m in \u001b[0;36m<module>\u001b[1;34m\u001b[0m\n\u001b[0;32m      8\u001b[0m \u001b[1;32mfor\u001b[0m \u001b[0mperson\u001b[0m \u001b[1;32min\u001b[0m \u001b[0mpd\u001b[0m\u001b[1;33m.\u001b[0m\u001b[0munique\u001b[0m\u001b[1;33m(\u001b[0m\u001b[0mdf\u001b[0m\u001b[1;33m[\u001b[0m\u001b[1;34m'tweet_id'\u001b[0m\u001b[1;33m]\u001b[0m\u001b[1;33m)\u001b[0m\u001b[1;33m:\u001b[0m\u001b[1;33m\u001b[0m\u001b[1;33m\u001b[0m\u001b[0m\n\u001b[0;32m      9\u001b[0m     \u001b[0mconversation\u001b[0m \u001b[1;33m=\u001b[0m \u001b[0mdf\u001b[0m\u001b[1;33m[\u001b[0m\u001b[0mdf\u001b[0m\u001b[1;33m[\u001b[0m\u001b[1;34m'tweet_id'\u001b[0m\u001b[1;33m]\u001b[0m \u001b[1;33m==\u001b[0m \u001b[0mperson\u001b[0m\u001b[1;33m]\u001b[0m\u001b[1;33m\u001b[0m\u001b[1;33m\u001b[0m\u001b[0m\n\u001b[1;32m---> 10\u001b[1;33m     grouped = (conversation.groupby(conversation.is_from_me.diff()\n\u001b[0m\u001b[0;32m     11\u001b[0m                .ne(0).cumsum(), as_index=False)\n\u001b[0;32m     12\u001b[0m                .agg({'text':make_sentences,\n",
      "\u001b[1;32m~\\anaconda3\\envs\\dsi\\lib\\site-packages\\pandas\\core\\generic.py\u001b[0m in \u001b[0;36m__getattr__\u001b[1;34m(self, name)\u001b[0m\n\u001b[0;32m   5137\u001b[0m             \u001b[1;32mif\u001b[0m \u001b[0mself\u001b[0m\u001b[1;33m.\u001b[0m\u001b[0m_info_axis\u001b[0m\u001b[1;33m.\u001b[0m\u001b[0m_can_hold_identifiers_and_holds_name\u001b[0m\u001b[1;33m(\u001b[0m\u001b[0mname\u001b[0m\u001b[1;33m)\u001b[0m\u001b[1;33m:\u001b[0m\u001b[1;33m\u001b[0m\u001b[1;33m\u001b[0m\u001b[0m\n\u001b[0;32m   5138\u001b[0m                 \u001b[1;32mreturn\u001b[0m \u001b[0mself\u001b[0m\u001b[1;33m[\u001b[0m\u001b[0mname\u001b[0m\u001b[1;33m]\u001b[0m\u001b[1;33m\u001b[0m\u001b[1;33m\u001b[0m\u001b[0m\n\u001b[1;32m-> 5139\u001b[1;33m             \u001b[1;32mreturn\u001b[0m \u001b[0mobject\u001b[0m\u001b[1;33m.\u001b[0m\u001b[0m__getattribute__\u001b[0m\u001b[1;33m(\u001b[0m\u001b[0mself\u001b[0m\u001b[1;33m,\u001b[0m \u001b[0mname\u001b[0m\u001b[1;33m)\u001b[0m\u001b[1;33m\u001b[0m\u001b[1;33m\u001b[0m\u001b[0m\n\u001b[0m\u001b[0;32m   5140\u001b[0m \u001b[1;33m\u001b[0m\u001b[0m\n\u001b[0;32m   5141\u001b[0m     \u001b[1;32mdef\u001b[0m \u001b[0m__setattr__\u001b[0m\u001b[1;33m(\u001b[0m\u001b[0mself\u001b[0m\u001b[1;33m,\u001b[0m \u001b[0mname\u001b[0m\u001b[1;33m:\u001b[0m \u001b[0mstr\u001b[0m\u001b[1;33m,\u001b[0m \u001b[0mvalue\u001b[0m\u001b[1;33m)\u001b[0m \u001b[1;33m->\u001b[0m \u001b[1;32mNone\u001b[0m\u001b[1;33m:\u001b[0m\u001b[1;33m\u001b[0m\u001b[1;33m\u001b[0m\u001b[0m\n",
      "\u001b[1;31mAttributeError\u001b[0m: 'DataFrame' object has no attribute 'is_from_me'"
     ]
    }
   ],
   "source": [
    "def make_sentences(series):\n",
    "    return '. '.join(series)\n",
    "\n",
    "## initialize empty df\n",
    "train_data = pd.DataFrame(columns = ['text', 'response'])\n",
    "\n",
    "## iterate through response tweet\n",
    "for person in pd.unique(df['tweet_id']):\n",
    "    conversation = df[df['tweet_id'] == person]\n",
    "    grouped = (conversation.groupby(conversation.is_from_me.diff()\n",
    "               .ne(0).cumsum(), as_index=False)\n",
    "               .agg({'text':make_sentences,\n",
    "               'author_id':'first', 'created_at':'first'}))\n",
    "    "
   ]
  },
  {
   "cell_type": "code",
   "execution_count": null,
   "metadata": {},
   "outputs": [],
   "source": []
  }
 ],
 "metadata": {
  "kernelspec": {
   "display_name": "Python 3",
   "language": "python",
   "name": "python3"
  },
  "language_info": {
   "codemirror_mode": {
    "name": "ipython",
    "version": 3
   },
   "file_extension": ".py",
   "mimetype": "text/x-python",
   "name": "python",
   "nbconvert_exporter": "python",
   "pygments_lexer": "ipython3",
   "version": "3.8.5"
  }
 },
 "nbformat": 4,
 "nbformat_minor": 4
}
