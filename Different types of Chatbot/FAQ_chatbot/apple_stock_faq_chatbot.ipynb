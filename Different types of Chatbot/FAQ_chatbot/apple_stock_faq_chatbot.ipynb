{
 "cells": [
  {
   "cell_type": "markdown",
   "metadata": {},
   "source": [
    "# Apple Stock FAQ Chatbot"
   ]
  },
  {
   "cell_type": "markdown",
   "metadata": {},
   "source": [
    "### Intelligent Virtual Assistants (IVAs)\n",
    "- IVAs are quickly replacing humans as the first tier of technical support and customer service\n",
    "- May interact with customers through:\n",
    "  * Company Websites\n",
    "  * Mobile Applications\n",
    "  * Social Media\n",
    "  * Customer Service Centers\n",
    "  * SMS\n",
    "  * Embedded Device Support\n",
    "\n",
    "### How do IVAs work?\n",
    "- User Intention (intent)\n",
    "    * The interpretation of a statement or question that allows one to formulate the best possible response.\n",
    "    * Used within IVAs similar to a class label within a classification task.\n",
    "    Example: 'Can I bring my dog with me on board?' \n",
    "    User Intention: pet policy(dogs)\n",
    "\n",
    "### Humans are Relational\n",
    "- We relate through conversation\n",
    "- We want our positions validated and understood\n",
    "    - Not just what I said but why I said it \n",
    "- In customer service:\n",
    "    * Both parties use relational strategies to build trust\n",
    "    * We want customer service representatives to take our side\n",
    "        - Persuade, manipulate, appeal to emotion\n",
    "\n",
    "### What is the Problem?\n",
    "- Ex: I need a new ticket, my dog ate my last one\n",
    "- The IVA won't recognize relational, and it is design to assume that all text are relevant\n",
    "\n",
    "### Relating with IVAs\n",
    "- Early experiences: ELIZA and PARRY\n",
    "- Relational language examples: Justification, backstory, greetings\n",
    "    \"Hello, my father is elderly and takes a while getting on a plane. Do you offer boarding assitance?\"\n",
    "- Increasingly used by customers as IVAs become more humanlike\n",
    "\n",
    "### Relational Language Tags\n",
    "- Greetings\n",
    "- Backstory\n",
    "- Justification \n",
    "- Ranting\n",
    "- Gratitude\n",
    "- Expressing Emotion\n",
    "- Other (for language that is not relational in nature)\n",
    "\n",
    "### What to do with Relational Segments\n",
    "1. We can ignore them\n",
    "    - Help intent recognition, but not IVA relational ability\n",
    "2. We can deal with them\n",
    "    - Determine which relational strategies are in play\n",
    "    - Decide how to modify the task response in light of the relational components\n",
    "\n"
   ]
  },
  {
   "cell_type": "markdown",
   "metadata": {},
   "source": [
    "## Rasu\n",
    "- config.yml \n",
    "    * all the machine learning settings\n",
    "- domain.yml\n",
    "    * overview of intents + responses custom actions\n",
    "- stories.md\n",
    "    * examples of intent/action sequences\n",
    "- nlu.md\n",
    "    * examples of intents/entities"
   ]
  },
  {
   "cell_type": "code",
   "execution_count": 1,
   "metadata": {},
   "outputs": [
    {
     "name": "stdout",
     "output_type": "stream",
     "text": [
      "WARNING:tensorflow:From C:\\Users\\User\\AppData\\Roaming\\Python\\Python38\\site-packages\\tensorflow\\python\\compat\\v2_compat.py:96: disable_resource_variables (from tensorflow.python.ops.variable_scope) is deprecated and will be removed in a future version.\n",
      "Instructions for updating:\n",
      "non-resource variables are not supported in the long term\n"
     ]
    }
   ],
   "source": [
    "# import \n",
    "import numpy as np\n",
    "\n",
    "import nltk \n",
    "import tflearn \n",
    "import tensorflow \n",
    "from nltk.stem.lancaster import LancasterStemmer\n",
    "import random\n",
    "import json\n",
    "import pickle\n",
    "import unicodedata\n",
    "from sklearn.feature_extraction.text import TfidfVectorizer"
   ]
  },
  {
   "cell_type": "markdown",
   "metadata": {},
   "source": [
    "For unzipping a Tar files\n",
    "https://www.winzip.com/win/en/tar-file.html"
   ]
  },
  {
   "cell_type": "code",
   "execution_count": 2,
   "metadata": {},
   "outputs": [],
   "source": [
    "stemmer = LancasterStemmer()"
   ]
  },
  {
   "cell_type": "markdown",
   "metadata": {},
   "source": [
    "Loading the Json file as a dictionary"
   ]
  },
  {
   "cell_type": "code",
   "execution_count": 3,
   "metadata": {},
   "outputs": [
    {
     "data": {
      "text/plain": [
       "[{'tag': 'greeting',\n",
       "  'patterns': ['Hi there',\n",
       "   'How are you',\n",
       "   'Is anyone there?',\n",
       "   'Hey',\n",
       "   'Hola',\n",
       "   'Hello',\n",
       "   'Good day'],\n",
       "  'responses': ['Hello, thanks for asking',\n",
       "   'Good to see you again',\n",
       "   'Hi there, how can I help?'],\n",
       "  'context': ['']}]"
      ]
     },
     "execution_count": 3,
     "metadata": {},
     "output_type": "execute_result"
    }
   ],
   "source": [
    "with open(\"intents.json\") as file:\n",
    "    data = json.load(file)\n",
    "data['intents'][:1]"
   ]
  },
  {
   "cell_type": "markdown",
   "metadata": {},
   "source": [
    "### Data Structure\n",
    "* Tags: Possible classes of user intention for asking a question\n",
    "* Patterns: The ways in which users usually ask questions relating to a particular tag\n",
    "* Responses: Predefined responses for each tag in the dataset from which the model can choose to respond to a particular question\n",
    "* Context: Contextual words relating to a tag for easy and better classification of what the user intends with their request"
   ]
  },
  {
   "cell_type": "markdown",
   "metadata": {},
   "source": [
    "Getting the root of the word by tokenizing the word and stemming it "
   ]
  },
  {
   "cell_type": "markdown",
   "metadata": {},
   "source": [
    "## Data Pre-processing"
   ]
  },
  {
   "cell_type": "code",
   "execution_count": 4,
   "metadata": {},
   "outputs": [],
   "source": [
    "# try: \n",
    "#     # x if you changed the .json uncommented and add a x\n",
    "#     # if the data is already saved then it runs the save data\n",
    "#     with open('data.pickle', 'rb') as f:\n",
    "#         words, labels, training, output = pickle.load(f)\n",
    "# except:\n",
    "words = []\n",
    "labels = []\n",
    "docs_x = []\n",
    "docs_y = []\n",
    "for intent in data['intents']:\n",
    "    for pattern in intent['patterns']:\n",
    "        ## seprating the word into a list \n",
    "        wrds = nltk.word_tokenize(pattern)\n",
    "        ## adding all to the list\n",
    "        words.extend(wrds)\n",
    "        ## append the tokenize words\n",
    "        docs_x.append(wrds)\n",
    "        ## append the tag of the intent\n",
    "        docs_y.append(intent['tag'])\n",
    "    if intent['tag'] not in labels:\n",
    "        labels.append(intent['tag'])\n",
    "## lowering the words to avoid confusing\n",
    "## removing the ? \n",
    "new_words = [stemmer.stem(w.lower()) for w in words if w not in '?']\n",
    "## removing all the ASCII\n",
    "words = []\n",
    "for word in new_words:\n",
    "    word = unicodedata.normalize('NFKD', word).encode('ascii', 'ignore').decode('utf-8', 'ignore')\n",
    "    words.append(word)\n",
    "## Removing all the duplicates\n",
    "words = sorted(list(set(words)))\n",
    "\n",
    "labels = sorted(labels)\n",
    "\n",
    "## creating a bagged of words in binary to train the model \n",
    "## So we can do one hot-encoding with the words\n",
    "training = []\n",
    "output = []\n",
    "\n",
    "## list of tags into one hot-encoding\n",
    "out_empty = [0 for _ in range(len(labels))]\n",
    "\n",
    "for x, doc in enumerate(docs_x):\n",
    "    bag = []\n",
    "    wrds = [stemmer.stem(w) for w in doc]\n",
    "\n",
    "    for w in words: \n",
    "        if w in wrds:\n",
    "            bag.append(1)\n",
    "        else:\n",
    "            bag.append(0)\n",
    "    output_row = out_empty[:]\n",
    "    output_row[labels.index(docs_y[x])] = 1\n",
    "    training.append(bag)\n",
    "    output.append(output_row)\n",
    "## switching the list into an array for input into a model\n",
    "training = np.array(training)\n",
    "output = np.array(output)\n",
    "## saving the preprocessing \n",
    "with open('data.pickle', 'wb') as f:\n",
    "    pickle.dump((words, labels, training, output), f)"
   ]
  },
  {
   "cell_type": "code",
   "execution_count": 5,
   "metadata": {},
   "outputs": [
    {
     "name": "stdout",
     "output_type": "stream",
     "text": [
      "WARNING:tensorflow:From C:\\Users\\User\\anaconda3\\envs\\dsi\\lib\\site-packages\\tflearn\\initializations.py:164: calling TruncatedNormal.__init__ (from tensorflow.python.ops.init_ops) with dtype is deprecated and will be removed in a future version.\n",
      "Instructions for updating:\n",
      "Call initializer instance with the dtype argument instead of passing it to the constructor\n"
     ]
    }
   ],
   "source": [
    "## defines the input shape for the model\n",
    "net = tflearn.input_data(shape = [None, len(training[0])])\n",
    "## adding to the neural network to 2 hidden layers \n",
    "## more hidden layers for more complex problem\n",
    "net = tflearn.fully_connected(net, 8)\n",
    "net = tflearn.fully_connected(net, 8)\n",
    "## output layers activation will allow us to get probablity for each neuron.\n",
    "net = tflearn.fully_connected(net, len(output[0]), activation = 'softmax')\n",
    "net = tflearn.regression(net)\n",
    "## Deep Neural Networl model\n",
    "model = tflearn.DNN(net)"
   ]
  },
  {
   "cell_type": "code",
   "execution_count": 6,
   "metadata": {},
   "outputs": [
    {
     "name": "stdout",
     "output_type": "stream",
     "text": [
      "Training Step: 4999  | total loss: \u001b[1m\u001b[32m0.05113\u001b[0m\u001b[0m | time: 0.009s\n",
      "| Adam | epoch: 1000 | loss: 0.05113 - acc: 1.0000 -- iter: 32/38\n",
      "Training Step: 5000  | total loss: \u001b[1m\u001b[32m0.05120\u001b[0m\u001b[0m | time: 0.011s\n",
      "| Adam | epoch: 1000 | loss: 0.05120 - acc: 1.0000 -- iter: 38/38\n",
      "--\n",
      "INFO:tensorflow:C:\\Users\\User\\Onedrive\\Desktop\\github\\Chatbot\\Different types of Chatbot\\FAQ_chatbot\\model.tflearn is not in all_model_checkpoint_paths. Manually adding it.\n"
     ]
    }
   ],
   "source": [
    "model.fit(training, output, n_epoch = 1000, batch_size = 8, show_metric = True)\n",
    "model.save('model.tflearn')"
   ]
  },
  {
   "cell_type": "code",
   "execution_count": 7,
   "metadata": {},
   "outputs": [],
   "source": [
    "def bag_of_words(s, words):\n",
    "    bag = [0 for _ in range(len(words))]\n",
    "    \n",
    "    s_words = nltk.word_tokenize(s)\n",
    "    s_words = [stemmer.stem(word.lower()) for word in s_words]\n",
    "    \n",
    "    for se in s_words:\n",
    "        for i, w in enumerate(words):\n",
    "            if w == se:\n",
    "                bag[i] = 1\n",
    "    return np.array(bag)"
   ]
  },
  {
   "cell_type": "code",
   "execution_count": 8,
   "metadata": {},
   "outputs": [],
   "source": [
    "def chat():\n",
    "    print('Hello, I am an Apple Stock FAQ Bot!! How may I help you? (type q to stop) !')\n",
    "    while True:\n",
    "        inp = input('You: ')\n",
    "        if inp.lower() == 'q':\n",
    "            break\n",
    "        ## it will giveout a probablity\n",
    "        results = model.predict([bag_of_words(inp,words)])[0]\n",
    "        \n",
    "\n",
    "        ## gives an index of the largest probablity, so you can display the best answer\n",
    "        results_index = np.argmax(results)\n",
    "        tag = labels[results_index]\n",
    "        if results[results_index] > 0.7:\n",
    "#             print(results)\n",
    "\n",
    "            for tg in data['intents']:\n",
    "                if tg['tag'] == tag:\n",
    "                    responses = tg['responses']\n",
    "\n",
    "            print('Chatbot: ' + random.choice(responses))\n",
    "        else:\n",
    "            print(\"Chatbot: Sorry, Here is Customer Service number Phone:\t877-360-5390 (U.S. toll-free) for better help!\")"
   ]
  },
  {
   "cell_type": "code",
   "execution_count": 9,
   "metadata": {},
   "outputs": [
    {
     "data": {
      "text/plain": [
       "array([[8.6493057e-01, 9.0631194e-02, 4.3111991e-06, 2.3010654e-04,\n",
       "        1.6312009e-07, 4.4104114e-02, 6.7618370e-05, 3.1471413e-05,\n",
       "        3.3963119e-07]], dtype=float32)"
      ]
     },
     "execution_count": 9,
     "metadata": {},
     "output_type": "execute_result"
    }
   ],
   "source": [
    "results = model.predict([bag_of_words('Dividend',words)])\n",
    "results"
   ]
  },
  {
   "cell_type": "code",
   "execution_count": 10,
   "metadata": {},
   "outputs": [
    {
     "name": "stdout",
     "output_type": "stream",
     "text": [
      "Hello, I am an Apple Stock FAQ Bot!! How may I help you? (type q to stop) !\n"
     ]
    },
    {
     "name": "stdin",
     "output_type": "stream",
     "text": [
      "You:  Dividend\n"
     ]
    },
    {
     "name": "stdout",
     "output_type": "stream",
     "text": [
      "Chatbot: Yes. Learn more about Appleâ€™s dividend history. Learn more about Appleâ€™s dividend history. https://investor.apple.com/dividend-history/default.aspx\n"
     ]
    },
    {
     "name": "stdin",
     "output_type": "stream",
     "text": [
      "You:  q\n"
     ]
    }
   ],
   "source": [
    "chat()"
   ]
  }
 ],
 "metadata": {
  "kernelspec": {
   "display_name": "Python [conda env:dsi]",
   "language": "python",
   "name": "conda-env-dsi-py"
  },
  "language_info": {
   "codemirror_mode": {
    "name": "ipython",
    "version": 3
   },
   "file_extension": ".py",
   "mimetype": "text/x-python",
   "name": "python",
   "nbconvert_exporter": "python",
   "pygments_lexer": "ipython3",
   "version": "3.8.5"
  }
 },
 "nbformat": 4,
 "nbformat_minor": 4
}
