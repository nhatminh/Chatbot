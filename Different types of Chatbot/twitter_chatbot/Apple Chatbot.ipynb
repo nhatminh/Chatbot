{
 "cells": [
  {
   "cell_type": "markdown",
   "id": "assigned-slide",
   "metadata": {},
   "source": [
    "# Apple Support Chatbot Using Twitter Data"
   ]
  },
  {
   "cell_type": "code",
   "execution_count": 50,
   "id": "contemporary-jonathan",
   "metadata": {},
   "outputs": [],
   "source": [
    "import pandas as pd\n",
    "import numpy as np\n",
    "import seaborn as sns\n",
    "import matplotlib.pyplot as plt\n",
    "import re\n",
    "import spacy\n",
    "import nltk\n",
    "import tensorflow as tf\n",
    "from tensorflow import keras\n",
    "import sklearn\n",
    "import math\n",
    "\n",
    "\n",
    "from nltk.tokenize import TweetTokenizer\n",
    "from nltk.stem import WordNetLemmatizer\n",
    "from nltk.corpus import wordnet\n",
    "import yaml\n",
    "import collections\n",
    "\n",
    "from nltk.corpus import stopwords\n",
    "from nltk.tokenize import word_tokenize\n",
    "from keras.preprocessing.text import Tokenizer\n",
    "from keras.preprocessing.sequence import pad_sequences\n",
    "from keras.utils import to_categorical\n",
    "from keras.models import Sequential, load_model\n",
    "from keras.layers import Dense, LSTM, Bidirectional, Embedding, Dropout\n",
    "from keras.callbacks import ModelCheckpoint\n",
    "from sklearn.model_selection import train_test_split\n",
    "from tensorflow.keras.layers import Input\n",
    "from keras.models import load_model\n",
    "\n",
    "# Word Embeddings\n",
    "from sklearn.feature_extraction.text import CountVectorizer\n",
    "from sklearn.feature_extraction.text import TfidfVectorizer\n",
    "from nltk.tokenize import TweetTokenizer\n",
    "import gensim\n",
    "\n",
    "# Doc2Vec\n",
    "from nltk.tokenize import word_tokenize \n",
    "from gensim.models.doc2vec import Doc2Vec, TaggedDocument"
   ]
  },
  {
   "cell_type": "markdown",
   "id": "foster-generation",
   "metadata": {},
   "source": [
    "## Data from Twitter\n",
    "\n",
    "https://www.kaggle.com/thoughtvector/customer-support-on-twitter\n",
    "- It is about customer support on tweet by different company"
   ]
  },
  {
   "cell_type": "code",
   "execution_count": 2,
   "id": "therapeutic-plenty",
   "metadata": {},
   "outputs": [
    {
     "data": {
      "text/html": [
       "<div>\n",
       "<style scoped>\n",
       "    .dataframe tbody tr th:only-of-type {\n",
       "        vertical-align: middle;\n",
       "    }\n",
       "\n",
       "    .dataframe tbody tr th {\n",
       "        vertical-align: top;\n",
       "    }\n",
       "\n",
       "    .dataframe thead th {\n",
       "        text-align: right;\n",
       "    }\n",
       "</style>\n",
       "<table border=\"1\" class=\"dataframe\">\n",
       "  <thead>\n",
       "    <tr style=\"text-align: right;\">\n",
       "      <th></th>\n",
       "      <th>tweet_id</th>\n",
       "      <th>author_id</th>\n",
       "      <th>inbound</th>\n",
       "      <th>created_at</th>\n",
       "      <th>text</th>\n",
       "      <th>response_tweet_id</th>\n",
       "      <th>in_response_to_tweet_id</th>\n",
       "    </tr>\n",
       "  </thead>\n",
       "  <tbody>\n",
       "    <tr>\n",
       "      <th>0</th>\n",
       "      <td>1</td>\n",
       "      <td>sprintcare</td>\n",
       "      <td>False</td>\n",
       "      <td>Tue Oct 31 22:10:47 +0000 2017</td>\n",
       "      <td>@115712 I understand. I would like to assist y...</td>\n",
       "      <td>2</td>\n",
       "      <td>3.0</td>\n",
       "    </tr>\n",
       "    <tr>\n",
       "      <th>1</th>\n",
       "      <td>2</td>\n",
       "      <td>115712</td>\n",
       "      <td>True</td>\n",
       "      <td>Tue Oct 31 22:11:45 +0000 2017</td>\n",
       "      <td>@sprintcare and how do you propose we do that</td>\n",
       "      <td>NaN</td>\n",
       "      <td>1.0</td>\n",
       "    </tr>\n",
       "    <tr>\n",
       "      <th>2</th>\n",
       "      <td>3</td>\n",
       "      <td>115712</td>\n",
       "      <td>True</td>\n",
       "      <td>Tue Oct 31 22:08:27 +0000 2017</td>\n",
       "      <td>@sprintcare I have sent several private messag...</td>\n",
       "      <td>1</td>\n",
       "      <td>4.0</td>\n",
       "    </tr>\n",
       "    <tr>\n",
       "      <th>3</th>\n",
       "      <td>4</td>\n",
       "      <td>sprintcare</td>\n",
       "      <td>False</td>\n",
       "      <td>Tue Oct 31 21:54:49 +0000 2017</td>\n",
       "      <td>@115712 Please send us a Private Message so th...</td>\n",
       "      <td>3</td>\n",
       "      <td>5.0</td>\n",
       "    </tr>\n",
       "    <tr>\n",
       "      <th>4</th>\n",
       "      <td>5</td>\n",
       "      <td>115712</td>\n",
       "      <td>True</td>\n",
       "      <td>Tue Oct 31 21:49:35 +0000 2017</td>\n",
       "      <td>@sprintcare I did.</td>\n",
       "      <td>4</td>\n",
       "      <td>6.0</td>\n",
       "    </tr>\n",
       "  </tbody>\n",
       "</table>\n",
       "</div>"
      ],
      "text/plain": [
       "   tweet_id   author_id  inbound                      created_at  \\\n",
       "0         1  sprintcare    False  Tue Oct 31 22:10:47 +0000 2017   \n",
       "1         2      115712     True  Tue Oct 31 22:11:45 +0000 2017   \n",
       "2         3      115712     True  Tue Oct 31 22:08:27 +0000 2017   \n",
       "3         4  sprintcare    False  Tue Oct 31 21:54:49 +0000 2017   \n",
       "4         5      115712     True  Tue Oct 31 21:49:35 +0000 2017   \n",
       "\n",
       "                                                text response_tweet_id  \\\n",
       "0  @115712 I understand. I would like to assist y...                 2   \n",
       "1      @sprintcare and how do you propose we do that               NaN   \n",
       "2  @sprintcare I have sent several private messag...                 1   \n",
       "3  @115712 Please send us a Private Message so th...                 3   \n",
       "4                                 @sprintcare I did.                 4   \n",
       "\n",
       "   in_response_to_tweet_id  \n",
       "0                      3.0  \n",
       "1                      1.0  \n",
       "2                      4.0  \n",
       "3                      5.0  \n",
       "4                      6.0  "
      ]
     },
     "execution_count": 2,
     "metadata": {},
     "output_type": "execute_result"
    }
   ],
   "source": [
    "tweet = pd.read_csv('twcs.csv')\n",
    "tweet.head()"
   ]
  },
  {
   "cell_type": "code",
   "execution_count": 3,
   "id": "nonprofit-nashville",
   "metadata": {},
   "outputs": [
    {
     "name": "stdout",
     "output_type": "stream",
     "text": [
      "author_id\n",
      "10026                  3\n",
      "100363                 1\n",
      "10103                  2\n",
      "10221                  2\n",
      "10286                  1\n",
      "                   ...  \n",
      "mediatemplehelp      305\n",
      "nationalrailenq     4444\n",
      "sainsburys         19466\n",
      "sizehelpteam        1482\n",
      "sprintcare         22381\n",
      "Name: text, Length: 702777, dtype: int64\n"
     ]
    },
    {
     "data": {
      "text/plain": [
       "(2811774, 702777)"
      ]
     },
     "execution_count": 3,
     "metadata": {},
     "output_type": "execute_result"
    }
   ],
   "source": [
    "## Finding the different author in the data\n",
    "author = tweet.groupby('author_id')['text'].count()\n",
    "print(author)\n",
    "\n",
    "## length of the dataframe\n",
    "len(tweet), len(author)"
   ]
  },
  {
   "cell_type": "code",
   "execution_count": 4,
   "id": "academic-chocolate",
   "metadata": {},
   "outputs": [
    {
     "data": {
      "text/plain": [
       "author_id\n",
       "AmazonHelp         169840\n",
       "AppleSupport       106860\n",
       "Uber_Support        56270\n",
       "SpotifyCares        43265\n",
       "Delta               42253\n",
       "Tesco               38573\n",
       "AmericanAir         36764\n",
       "TMobileHelp         34317\n",
       "comcastcares        33031\n",
       "British_Airways     29361\n",
       "Name: text, dtype: int64"
      ]
     },
     "execution_count": 4,
     "metadata": {},
     "output_type": "execute_result"
    }
   ],
   "source": [
    "author.nlargest(10)"
   ]
  },
  {
   "cell_type": "markdown",
   "id": "appreciated-twist",
   "metadata": {},
   "source": [
    "- So there are 2.8 millions tweets and 700,000 different author_id\n",
    "- Let's see the top 15"
   ]
  },
  {
   "cell_type": "code",
   "execution_count": 5,
   "id": "unsigned-balance",
   "metadata": {},
   "outputs": [
    {
     "data": {
      "image/png": "[encoded data removed]",
      "text/plain": [
       "<Figure size 1080x360 with 1 Axes>"
      ]
     },
     "metadata": {
      "needs_background": "light"
     },
     "output_type": "display_data"
    }
   ],
   "source": [
    "author.nlargest(15).plot(kind='bar',figsize=(15, 5))\n",
    "plt.xlabel('')\n",
    "plt.ylabel('Frequency')\n",
    "plt.title('Top 15 Customer_id')\n",
    "plt.savefig('top_15 customer_id', bbox_inches='tight')\n",
    "plt.show()"
   ]
  },
  {
   "cell_type": "code",
   "execution_count": 6,
   "id": "round-arrival",
   "metadata": {},
   "outputs": [
    {
     "name": "stdout",
     "output_type": "stream",
     "text": [
      "# of companies: 108, # of customer: 702669\n"
     ]
    }
   ],
   "source": [
    "## let's see unique customer_id and company\n",
    "## by checking the inbound column we can see whether or not if it is the customer or not\n",
    "unique_id = (len(tweet[tweet.inbound == False].author_id.unique()), len(tweet[tweet.inbound == True].author_id.unique()))\n",
    "print(f'# of companies: {unique_id[0]}, # of customer: {unique_id[1]}')"
   ]
  },
  {
   "cell_type": "markdown",
   "id": "special-bailey",
   "metadata": {},
   "source": [
    "### Data Dictionary\n",
    "\n",
    "The dataset is a CSV, where each row is a tweet. The different columns are described below. Every conversation included has at least one request from a consumer and at least one response from a company. Which user IDs are company user IDs can be calculated using the inbound field.\n",
    "\n",
    "* tweet_id:\n",
    "A unique, anonymized ID for the Tweet. Referenced by response_tweet_id and in_response_to_tweet_id.\n",
    "\n",
    "* author_id:\n",
    "A unique, anonymized user ID. @s in the dataset have been replaced with their associated anonymized user ID.\n",
    "\n",
    "* inbound:\n",
    "Whether the tweet is \"inbound\" to a company doing customer support on Twitter. This feature is useful when re-organizing data for training conversational models.\n",
    "\n",
    "* created_at:\n",
    "Date and time when the tweet was sent.\n",
    "\n",
    "* text:\n",
    "Tweet content. Sensitive information like phone numbers and email addresses are replaced with mask values like __email__.\n",
    "\n",
    "* response_tweet_id:\n",
    "IDs of tweets that are responses to this tweet, comma-separated.\n",
    "\n",
    "* in_response_to_tweet_id:\n",
    "ID of the tweet this tweet is in response to, if any."
   ]
  },
  {
   "cell_type": "markdown",
   "id": "green-profit",
   "metadata": {},
   "source": [
    "#### Amazon has too many language for this work on english"
   ]
  },
  {
   "cell_type": "markdown",
   "id": "driven-croatia",
   "metadata": {},
   "source": [
    "## Apple Support\n",
    "- Creating a chatbot too broad and get us into lot of error by the bot because most customer support ask similar question, it can create internel errors\n",
    "- Narrow it down to only Apple because Amazon has a lot of different languages in the text"
   ]
  },
  {
   "cell_type": "code",
   "execution_count": 7,
   "id": "celtic-score",
   "metadata": {},
   "outputs": [
    {
     "name": "stdout",
     "output_type": "stream",
     "text": [
      "<class 'pandas.core.frame.DataFrame'>\n",
      "Int64Index: 106860 entries, 396 to 2811541\n",
      "Data columns (total 7 columns):\n",
      " #   Column                   Non-Null Count   Dtype  \n",
      "---  ------                   --------------   -----  \n",
      " 0   tweet_id                 106860 non-null  int64  \n",
      " 1   author_id                106860 non-null  object \n",
      " 2   inbound                  106860 non-null  bool   \n",
      " 3   created_at               106860 non-null  object \n",
      " 4   text                     106860 non-null  object \n",
      " 5   response_tweet_id        31564 non-null   object \n",
      " 6   in_response_to_tweet_id  106719 non-null  float64\n",
      "dtypes: bool(1), float64(1), int64(1), object(4)\n",
      "memory usage: 5.8+ MB\n"
     ]
    }
   ],
   "source": [
    "ap = tweet[tweet['author_id'] == 'AppleSupport']\n",
    "ap.info()"
   ]
  },
  {
   "cell_type": "code",
   "execution_count": 8,
   "id": "balanced-madrid",
   "metadata": {},
   "outputs": [
    {
     "data": {
      "text/plain": [
       "(106860, 7)"
      ]
     },
     "execution_count": 8,
     "metadata": {},
     "output_type": "execute_result"
    }
   ],
   "source": [
    "## we still have over 100,000 of data, so chatbot would be still decent\n",
    "ap.shape"
   ]
  },
  {
   "cell_type": "code",
   "execution_count": 9,
   "id": "brown-connecticut",
   "metadata": {},
   "outputs": [
    {
     "name": "stdout",
     "output_type": "stream",
     "text": [
      "<class 'pandas.core.frame.DataFrame'>\n",
      "Int64Index: 106719 entries, 396 to 2811541\n",
      "Data columns (total 7 columns):\n",
      " #   Column                   Non-Null Count   Dtype \n",
      "---  ------                   --------------   ----- \n",
      " 0   tweet_id                 106719 non-null  int64 \n",
      " 1   author_id                106719 non-null  object\n",
      " 2   inbound                  106719 non-null  bool  \n",
      " 3   created_at               106719 non-null  object\n",
      " 4   text                     106719 non-null  object\n",
      " 5   response_tweet_id        31423 non-null   object\n",
      " 6   in_response_to_tweet_id  106719 non-null  int64 \n",
      "dtypes: bool(1), int64(2), object(4)\n",
      "memory usage: 5.8+ MB\n"
     ]
    },
    {
     "name": "stderr",
     "output_type": "stream",
     "text": [
      "<ipython-input-9-74ffd78d6e53>:2: SettingWithCopyWarning: \n",
      "A value is trying to be set on a copy of a slice from a DataFrame\n",
      "\n",
      "See the caveats in the documentation: https://pandas.pydata.org/pandas-docs/stable/user_guide/indexing.html#returning-a-view-versus-a-copy\n",
      "  ap.dropna(subset = ['in_response_to_tweet_id'], inplace = True)\n",
      "<ipython-input-9-74ffd78d6e53>:4: SettingWithCopyWarning: \n",
      "A value is trying to be set on a copy of a slice from a DataFrame.\n",
      "Try using .loc[row_indexer,col_indexer] = value instead\n",
      "\n",
      "See the caveats in the documentation: https://pandas.pydata.org/pandas-docs/stable/user_guide/indexing.html#returning-a-view-versus-a-copy\n",
      "  ap['in_response_to_tweet_id'] = ap['in_response_to_tweet_id'].astype('int64')\n"
     ]
    }
   ],
   "source": [
    "## we need to drop all the na for in_response_to_tweet_id because it shows the id of the tweet that this tweet is in response\n",
    "ap.dropna(subset = ['in_response_to_tweet_id'], inplace = True)\n",
    "## converting in_response_to_tweet_id to int\n",
    "ap['in_response_to_tweet_id'] = ap['in_response_to_tweet_id'].astype('int64')\n",
    "ap.info()"
   ]
  },
  {
   "cell_type": "code",
   "execution_count": 10,
   "id": "first-giving",
   "metadata": {},
   "outputs": [
    {
     "data": {
      "text/html": [
       "<div>\n",
       "<style scoped>\n",
       "    .dataframe tbody tr th:only-of-type {\n",
       "        vertical-align: middle;\n",
       "    }\n",
       "\n",
       "    .dataframe tbody tr th {\n",
       "        vertical-align: top;\n",
       "    }\n",
       "\n",
       "    .dataframe thead th {\n",
       "        text-align: right;\n",
       "    }\n",
       "</style>\n",
       "<table border=\"1\" class=\"dataframe\">\n",
       "  <thead>\n",
       "    <tr style=\"text-align: right;\">\n",
       "      <th></th>\n",
       "      <th>tweet_id</th>\n",
       "      <th>author_id</th>\n",
       "      <th>inbound</th>\n",
       "      <th>created_at</th>\n",
       "      <th>text</th>\n",
       "      <th>response_tweet_id</th>\n",
       "      <th>in_response_to_tweet_id</th>\n",
       "    </tr>\n",
       "  </thead>\n",
       "  <tbody>\n",
       "    <tr>\n",
       "      <th>396</th>\n",
       "      <td>696</td>\n",
       "      <td>AppleSupport</td>\n",
       "      <td>False</td>\n",
       "      <td>Tue Oct 31 22:27:49 +0000 2017</td>\n",
       "      <td>@115854 We're here for you. Which version of t...</td>\n",
       "      <td>697</td>\n",
       "      <td>698</td>\n",
       "    </tr>\n",
       "    <tr>\n",
       "      <th>398</th>\n",
       "      <td>699</td>\n",
       "      <td>AppleSupport</td>\n",
       "      <td>False</td>\n",
       "      <td>Tue Oct 31 22:36:27 +0000 2017</td>\n",
       "      <td>@115854 Lets take a closer look into this issu...</td>\n",
       "      <td>NaN</td>\n",
       "      <td>697</td>\n",
       "    </tr>\n",
       "    <tr>\n",
       "      <th>401</th>\n",
       "      <td>701</td>\n",
       "      <td>AppleSupport</td>\n",
       "      <td>False</td>\n",
       "      <td>Tue Oct 31 22:26:49 +0000 2017</td>\n",
       "      <td>@115855 Let's go to DM for the next steps. DM ...</td>\n",
       "      <td>NaN</td>\n",
       "      <td>702</td>\n",
       "    </tr>\n",
       "    <tr>\n",
       "      <th>403</th>\n",
       "      <td>703</td>\n",
       "      <td>AppleSupport</td>\n",
       "      <td>False</td>\n",
       "      <td>Tue Oct 31 22:09:52 +0000 2017</td>\n",
       "      <td>@115855 Any steps tried since it started last ...</td>\n",
       "      <td>702</td>\n",
       "      <td>704</td>\n",
       "    </tr>\n",
       "    <tr>\n",
       "      <th>405</th>\n",
       "      <td>705</td>\n",
       "      <td>AppleSupport</td>\n",
       "      <td>False</td>\n",
       "      <td>Tue Oct 31 21:57:00 +0000 2017</td>\n",
       "      <td>@115855 That's great it has iOS 11.1 as we can...</td>\n",
       "      <td>706,704</td>\n",
       "      <td>707</td>\n",
       "    </tr>\n",
       "  </tbody>\n",
       "</table>\n",
       "</div>"
      ],
      "text/plain": [
       "     tweet_id     author_id  inbound                      created_at  \\\n",
       "396       696  AppleSupport    False  Tue Oct 31 22:27:49 +0000 2017   \n",
       "398       699  AppleSupport    False  Tue Oct 31 22:36:27 +0000 2017   \n",
       "401       701  AppleSupport    False  Tue Oct 31 22:26:49 +0000 2017   \n",
       "403       703  AppleSupport    False  Tue Oct 31 22:09:52 +0000 2017   \n",
       "405       705  AppleSupport    False  Tue Oct 31 21:57:00 +0000 2017   \n",
       "\n",
       "                                                  text response_tweet_id  \\\n",
       "396  @115854 We're here for you. Which version of t...               697   \n",
       "398  @115854 Lets take a closer look into this issu...               NaN   \n",
       "401  @115855 Let's go to DM for the next steps. DM ...               NaN   \n",
       "403  @115855 Any steps tried since it started last ...               702   \n",
       "405  @115855 That's great it has iOS 11.1 as we can...           706,704   \n",
       "\n",
       "     in_response_to_tweet_id  \n",
       "396                      698  \n",
       "398                      697  \n",
       "401                      702  \n",
       "403                      704  \n",
       "405                      707  "
      ]
     },
     "execution_count": 10,
     "metadata": {},
     "output_type": "execute_result"
    }
   ],
   "source": [
    "ap.head()"
   ]
  },
  {
   "cell_type": "markdown",
   "id": "derived-philippines",
   "metadata": {},
   "source": [
    "* now we need the match those text to the orginal in_response_to_tweet_id\n",
    "* we can merge the orginal dataframe with the apple one\n",
    "* we need the tweet_id and the text from the orginal one"
   ]
  },
  {
   "cell_type": "code",
   "execution_count": 11,
   "id": "chronic-observation",
   "metadata": {},
   "outputs": [
    {
     "data": {
      "text/html": [
       "<div>\n",
       "<style scoped>\n",
       "    .dataframe tbody tr th:only-of-type {\n",
       "        vertical-align: middle;\n",
       "    }\n",
       "\n",
       "    .dataframe tbody tr th {\n",
       "        vertical-align: top;\n",
       "    }\n",
       "\n",
       "    .dataframe thead th {\n",
       "        text-align: right;\n",
       "    }\n",
       "</style>\n",
       "<table border=\"1\" class=\"dataframe\">\n",
       "  <thead>\n",
       "    <tr style=\"text-align: right;\">\n",
       "      <th></th>\n",
       "      <th>tweet_id_x</th>\n",
       "      <th>text_x</th>\n",
       "      <th>tweet_id_y</th>\n",
       "      <th>author_id</th>\n",
       "      <th>inbound</th>\n",
       "      <th>created_at</th>\n",
       "      <th>text_y</th>\n",
       "      <th>response_tweet_id</th>\n",
       "      <th>in_response_to_tweet_id</th>\n",
       "    </tr>\n",
       "  </thead>\n",
       "  <tbody>\n",
       "    <tr>\n",
       "      <th>0</th>\n",
       "      <td>697</td>\n",
       "      <td>@AppleSupport The newest update. I️ made sure ...</td>\n",
       "      <td>699</td>\n",
       "      <td>AppleSupport</td>\n",
       "      <td>False</td>\n",
       "      <td>Tue Oct 31 22:36:27 +0000 2017</td>\n",
       "      <td>@115854 Lets take a closer look into this issu...</td>\n",
       "      <td>NaN</td>\n",
       "      <td>697</td>\n",
       "    </tr>\n",
       "    <tr>\n",
       "      <th>1</th>\n",
       "      <td>698</td>\n",
       "      <td>@AppleSupport  https://t.co/NV0yucs0lB</td>\n",
       "      <td>696</td>\n",
       "      <td>AppleSupport</td>\n",
       "      <td>False</td>\n",
       "      <td>Tue Oct 31 22:27:49 +0000 2017</td>\n",
       "      <td>@115854 We're here for you. Which version of t...</td>\n",
       "      <td>697</td>\n",
       "      <td>698</td>\n",
       "    </tr>\n",
       "    <tr>\n",
       "      <th>2</th>\n",
       "      <td>702</td>\n",
       "      <td>@AppleSupport Tried resetting my settings .. r...</td>\n",
       "      <td>701</td>\n",
       "      <td>AppleSupport</td>\n",
       "      <td>False</td>\n",
       "      <td>Tue Oct 31 22:26:49 +0000 2017</td>\n",
       "      <td>@115855 Let's go to DM for the next steps. DM ...</td>\n",
       "      <td>NaN</td>\n",
       "      <td>702</td>\n",
       "    </tr>\n",
       "    <tr>\n",
       "      <th>3</th>\n",
       "      <td>704</td>\n",
       "      <td>@AppleSupport This is what it looks like https...</td>\n",
       "      <td>703</td>\n",
       "      <td>AppleSupport</td>\n",
       "      <td>False</td>\n",
       "      <td>Tue Oct 31 22:09:52 +0000 2017</td>\n",
       "      <td>@115855 Any steps tried since it started last ...</td>\n",
       "      <td>702</td>\n",
       "      <td>704</td>\n",
       "    </tr>\n",
       "    <tr>\n",
       "      <th>4</th>\n",
       "      <td>707</td>\n",
       "      <td>@AppleSupport I️ have an iPhone 7 Plus and yes...</td>\n",
       "      <td>705</td>\n",
       "      <td>AppleSupport</td>\n",
       "      <td>False</td>\n",
       "      <td>Tue Oct 31 21:57:00 +0000 2017</td>\n",
       "      <td>@115855 That's great it has iOS 11.1 as we can...</td>\n",
       "      <td>706,704</td>\n",
       "      <td>707</td>\n",
       "    </tr>\n",
       "  </tbody>\n",
       "</table>\n",
       "</div>"
      ],
      "text/plain": [
       "   tweet_id_x                                             text_x  tweet_id_y  \\\n",
       "0         697  @AppleSupport The newest update. I️ made sure ...         699   \n",
       "1         698             @AppleSupport  https://t.co/NV0yucs0lB         696   \n",
       "2         702  @AppleSupport Tried resetting my settings .. r...         701   \n",
       "3         704  @AppleSupport This is what it looks like https...         703   \n",
       "4         707  @AppleSupport I️ have an iPhone 7 Plus and yes...         705   \n",
       "\n",
       "      author_id  inbound                      created_at  \\\n",
       "0  AppleSupport    False  Tue Oct 31 22:36:27 +0000 2017   \n",
       "1  AppleSupport    False  Tue Oct 31 22:27:49 +0000 2017   \n",
       "2  AppleSupport    False  Tue Oct 31 22:26:49 +0000 2017   \n",
       "3  AppleSupport    False  Tue Oct 31 22:09:52 +0000 2017   \n",
       "4  AppleSupport    False  Tue Oct 31 21:57:00 +0000 2017   \n",
       "\n",
       "                                              text_y response_tweet_id  \\\n",
       "0  @115854 Lets take a closer look into this issu...               NaN   \n",
       "1  @115854 We're here for you. Which version of t...               697   \n",
       "2  @115855 Let's go to DM for the next steps. DM ...               NaN   \n",
       "3  @115855 Any steps tried since it started last ...               702   \n",
       "4  @115855 That's great it has iOS 11.1 as we can...           706,704   \n",
       "\n",
       "   in_response_to_tweet_id  \n",
       "0                      697  \n",
       "1                      698  \n",
       "2                      702  \n",
       "3                      704  \n",
       "4                      707  "
      ]
     },
     "execution_count": 11,
     "metadata": {},
     "output_type": "execute_result"
    }
   ],
   "source": [
    "ap = pd.merge(tweet[['tweet_id', 'text']], ap,left_on = 'tweet_id', right_on = 'in_response_to_tweet_id')\n",
    "ap.head()"
   ]
  },
  {
   "cell_type": "code",
   "execution_count": 12,
   "id": "experimental-vocabulary",
   "metadata": {},
   "outputs": [
    {
     "data": {
      "text/html": [
       "<div>\n",
       "<style scoped>\n",
       "    .dataframe tbody tr th:only-of-type {\n",
       "        vertical-align: middle;\n",
       "    }\n",
       "\n",
       "    .dataframe tbody tr th {\n",
       "        vertical-align: top;\n",
       "    }\n",
       "\n",
       "    .dataframe thead th {\n",
       "        text-align: right;\n",
       "    }\n",
       "</style>\n",
       "<table border=\"1\" class=\"dataframe\">\n",
       "  <thead>\n",
       "    <tr style=\"text-align: right;\">\n",
       "      <th></th>\n",
       "      <th>text_x</th>\n",
       "      <th>author_id</th>\n",
       "      <th>created_at</th>\n",
       "      <th>text_y</th>\n",
       "    </tr>\n",
       "  </thead>\n",
       "  <tbody>\n",
       "    <tr>\n",
       "      <th>0</th>\n",
       "      <td>@AppleSupport The newest update. I️ made sure ...</td>\n",
       "      <td>AppleSupport</td>\n",
       "      <td>Tue Oct 31 22:36:27 +0000 2017</td>\n",
       "      <td>@115854 Lets take a closer look into this issu...</td>\n",
       "    </tr>\n",
       "    <tr>\n",
       "      <th>1</th>\n",
       "      <td>@AppleSupport  https://t.co/NV0yucs0lB</td>\n",
       "      <td>AppleSupport</td>\n",
       "      <td>Tue Oct 31 22:27:49 +0000 2017</td>\n",
       "      <td>@115854 We're here for you. Which version of t...</td>\n",
       "    </tr>\n",
       "    <tr>\n",
       "      <th>2</th>\n",
       "      <td>@AppleSupport Tried resetting my settings .. r...</td>\n",
       "      <td>AppleSupport</td>\n",
       "      <td>Tue Oct 31 22:26:49 +0000 2017</td>\n",
       "      <td>@115855 Let's go to DM for the next steps. DM ...</td>\n",
       "    </tr>\n",
       "    <tr>\n",
       "      <th>3</th>\n",
       "      <td>@AppleSupport This is what it looks like https...</td>\n",
       "      <td>AppleSupport</td>\n",
       "      <td>Tue Oct 31 22:09:52 +0000 2017</td>\n",
       "      <td>@115855 Any steps tried since it started last ...</td>\n",
       "    </tr>\n",
       "    <tr>\n",
       "      <th>4</th>\n",
       "      <td>@AppleSupport I️ have an iPhone 7 Plus and yes...</td>\n",
       "      <td>AppleSupport</td>\n",
       "      <td>Tue Oct 31 21:57:00 +0000 2017</td>\n",
       "      <td>@115855 That's great it has iOS 11.1 as we can...</td>\n",
       "    </tr>\n",
       "  </tbody>\n",
       "</table>\n",
       "</div>"
      ],
      "text/plain": [
       "                                              text_x     author_id  \\\n",
       "0  @AppleSupport The newest update. I️ made sure ...  AppleSupport   \n",
       "1             @AppleSupport  https://t.co/NV0yucs0lB  AppleSupport   \n",
       "2  @AppleSupport Tried resetting my settings .. r...  AppleSupport   \n",
       "3  @AppleSupport This is what it looks like https...  AppleSupport   \n",
       "4  @AppleSupport I️ have an iPhone 7 Plus and yes...  AppleSupport   \n",
       "\n",
       "                       created_at  \\\n",
       "0  Tue Oct 31 22:36:27 +0000 2017   \n",
       "1  Tue Oct 31 22:27:49 +0000 2017   \n",
       "2  Tue Oct 31 22:26:49 +0000 2017   \n",
       "3  Tue Oct 31 22:09:52 +0000 2017   \n",
       "4  Tue Oct 31 21:57:00 +0000 2017   \n",
       "\n",
       "                                              text_y  \n",
       "0  @115854 Lets take a closer look into this issu...  \n",
       "1  @115854 We're here for you. Which version of t...  \n",
       "2  @115855 Let's go to DM for the next steps. DM ...  \n",
       "3  @115855 Any steps tried since it started last ...  \n",
       "4  @115855 That's great it has iOS 11.1 as we can...  "
      ]
     },
     "execution_count": 12,
     "metadata": {},
     "output_type": "execute_result"
    }
   ],
   "source": [
    "## Dropping the unnesccary columns\n",
    "ap.drop(columns = ['tweet_id_x', 'tweet_id_y', 'inbound', 'in_response_to_tweet_id', 'response_tweet_id'], inplace = True)\n",
    "ap.head()"
   ]
  },
  {
   "cell_type": "code",
   "execution_count": 13,
   "id": "revised-married",
   "metadata": {},
   "outputs": [
    {
     "data": {
      "text/html": [
       "<div>\n",
       "<style scoped>\n",
       "    .dataframe tbody tr th:only-of-type {\n",
       "        vertical-align: middle;\n",
       "    }\n",
       "\n",
       "    .dataframe tbody tr th {\n",
       "        vertical-align: top;\n",
       "    }\n",
       "\n",
       "    .dataframe thead th {\n",
       "        text-align: right;\n",
       "    }\n",
       "</style>\n",
       "<table border=\"1\" class=\"dataframe\">\n",
       "  <thead>\n",
       "    <tr style=\"text-align: right;\">\n",
       "      <th></th>\n",
       "      <th>customer_text</th>\n",
       "      <th>author_id</th>\n",
       "      <th>date</th>\n",
       "      <th>apple_text</th>\n",
       "    </tr>\n",
       "  </thead>\n",
       "  <tbody>\n",
       "    <tr>\n",
       "      <th>0</th>\n",
       "      <td>@AppleSupport The newest update. I️ made sure ...</td>\n",
       "      <td>AppleSupport</td>\n",
       "      <td>Tue Oct 31 22:36:27 +0000 2017</td>\n",
       "      <td>@115854 Lets take a closer look into this issu...</td>\n",
       "    </tr>\n",
       "    <tr>\n",
       "      <th>1</th>\n",
       "      <td>@AppleSupport  https://t.co/NV0yucs0lB</td>\n",
       "      <td>AppleSupport</td>\n",
       "      <td>Tue Oct 31 22:27:49 +0000 2017</td>\n",
       "      <td>@115854 We're here for you. Which version of t...</td>\n",
       "    </tr>\n",
       "    <tr>\n",
       "      <th>2</th>\n",
       "      <td>@AppleSupport Tried resetting my settings .. r...</td>\n",
       "      <td>AppleSupport</td>\n",
       "      <td>Tue Oct 31 22:26:49 +0000 2017</td>\n",
       "      <td>@115855 Let's go to DM for the next steps. DM ...</td>\n",
       "    </tr>\n",
       "    <tr>\n",
       "      <th>3</th>\n",
       "      <td>@AppleSupport This is what it looks like https...</td>\n",
       "      <td>AppleSupport</td>\n",
       "      <td>Tue Oct 31 22:09:52 +0000 2017</td>\n",
       "      <td>@115855 Any steps tried since it started last ...</td>\n",
       "    </tr>\n",
       "    <tr>\n",
       "      <th>4</th>\n",
       "      <td>@AppleSupport I️ have an iPhone 7 Plus and yes...</td>\n",
       "      <td>AppleSupport</td>\n",
       "      <td>Tue Oct 31 21:57:00 +0000 2017</td>\n",
       "      <td>@115855 That's great it has iOS 11.1 as we can...</td>\n",
       "    </tr>\n",
       "  </tbody>\n",
       "</table>\n",
       "</div>"
      ],
      "text/plain": [
       "                                       customer_text     author_id  \\\n",
       "0  @AppleSupport The newest update. I️ made sure ...  AppleSupport   \n",
       "1             @AppleSupport  https://t.co/NV0yucs0lB  AppleSupport   \n",
       "2  @AppleSupport Tried resetting my settings .. r...  AppleSupport   \n",
       "3  @AppleSupport This is what it looks like https...  AppleSupport   \n",
       "4  @AppleSupport I️ have an iPhone 7 Plus and yes...  AppleSupport   \n",
       "\n",
       "                             date  \\\n",
       "0  Tue Oct 31 22:36:27 +0000 2017   \n",
       "1  Tue Oct 31 22:27:49 +0000 2017   \n",
       "2  Tue Oct 31 22:26:49 +0000 2017   \n",
       "3  Tue Oct 31 22:09:52 +0000 2017   \n",
       "4  Tue Oct 31 21:57:00 +0000 2017   \n",
       "\n",
       "                                          apple_text  \n",
       "0  @115854 Lets take a closer look into this issu...  \n",
       "1  @115854 We're here for you. Which version of t...  \n",
       "2  @115855 Let's go to DM for the next steps. DM ...  \n",
       "3  @115855 Any steps tried since it started last ...  \n",
       "4  @115855 That's great it has iOS 11.1 as we can...  "
      ]
     },
     "execution_count": 13,
     "metadata": {},
     "output_type": "execute_result"
    }
   ],
   "source": [
    "## renaming them\n",
    "ap.rename(columns = {'text_x': 'customer_text', 'text_y': 'apple_text', 'created_at': 'date'}, inplace = True)\n",
    "ap.head()"
   ]
  },
  {
   "cell_type": "markdown",
   "id": "special-uncertainty",
   "metadata": {},
   "source": [
    "## Preprocessing "
   ]
  },
  {
   "cell_type": "code",
   "execution_count": 14,
   "id": "developmental-quantum",
   "metadata": {},
   "outputs": [
    {
     "data": {
      "text/plain": [
       "0         @AppleSupport The newest update. I️ made sure ...\n",
       "1                    @AppleSupport  https://t.co/NV0yucs0lB\n",
       "2         @AppleSupport Tried resetting my settings .. r...\n",
       "3         @AppleSupport This is what it looks like https...\n",
       "4         @AppleSupport I️ have an iPhone 7 Plus and yes...\n",
       "                                ...                        \n",
       "106643    anyone having issues with #osx #HighSierra and...\n",
       "106644    Hey @AppleSupport - not being able to duplicat...\n",
       "106645    Yo @AppleSupport is that weird glitch w/ the c...\n",
       "106646    What the fuck @AppleSupport  my phone keeps ha...\n",
       "106647    Is anyone having #iphone issues with there pho...\n",
       "Name: customer_text, Length: 106648, dtype: object"
      ]
     },
     "execution_count": 14,
     "metadata": {},
     "output_type": "execute_result"
    }
   ],
   "source": [
    "# stopwords from nltk\n",
    "stop_words = set(stopwords.words('english'))\n",
    "# lemmatizer\n",
    "lemmatizer = nltk.stem.WordNetLemmatizer()\n",
    "\n",
    "ct = ap['customer_text']\n",
    "ct "
   ]
  },
  {
   "cell_type": "markdown",
   "id": "unexpected-frank",
   "metadata": {},
   "source": [
    "### Making all the words lower case"
   ]
  },
  {
   "cell_type": "code",
   "execution_count": 15,
   "id": "suited-initial",
   "metadata": {},
   "outputs": [
    {
     "data": {
      "text/plain": [
       "0         @applesupport the newest update. i️ made sure ...\n",
       "1                    @applesupport  https://t.co/nv0yucs0lb\n",
       "2         @applesupport tried resetting my settings .. r...\n",
       "3         @applesupport this is what it looks like https...\n",
       "4         @applesupport i️ have an iphone 7 plus and yes...\n",
       "                                ...                        \n",
       "106643    anyone having issues with #osx #highsierra and...\n",
       "106644    hey @applesupport - not being able to duplicat...\n",
       "106645    yo @applesupport is that weird glitch w/ the c...\n",
       "106646    what the fuck @applesupport  my phone keeps ha...\n",
       "106647    is anyone having #iphone issues with there pho...\n",
       "Name: customer_text, Length: 106648, dtype: object"
      ]
     },
     "execution_count": 15,
     "metadata": {},
     "output_type": "execute_result"
    }
   ],
   "source": [
    "## converting to all lower case\n",
    "ct = ct.str.lower()\n",
    "ct"
   ]
  },
  {
   "cell_type": "markdown",
   "id": "polyphonic-criticism",
   "metadata": {},
   "source": [
    "### Tokenzing, Lemmitzing, Remove the href"
   ]
  },
  {
   "cell_type": "code",
   "execution_count": 16,
   "id": "utility-gardening",
   "metadata": {},
   "outputs": [
    {
     "data": {
      "text/plain": [
       "0         [applesupport, the, newest, update, i, made, s...\n",
       "1                                            [applesupport]\n",
       "2         [applesupport, tried, resetting, my, settings,...\n",
       "3           [applesupport, this, is, what, it, looks, like]\n",
       "4         [applesupport, i, have, an, iphone, 7, plus, a...\n",
       "                                ...                        \n",
       "106643    [anyone, having, issues, with, osx, highsierra...\n",
       "106644    [hey, applesupport, not, being, able, to, dupl...\n",
       "106645    [yo, applesupport, is, that, weird, glitch, w,...\n",
       "106646    [what, the, fuck, applesupport, my, phone, kee...\n",
       "106647    [is, anyone, having, iphone, issues, with, the...\n",
       "Name: customer_text, Length: 106648, dtype: object"
      ]
     },
     "execution_count": 16,
     "metadata": {},
     "output_type": "execute_result"
    }
   ],
   "source": [
    "token = TweetTokenizer(reduce_len = True, strip_handles = True)\n",
    "## this limits repeated character to 3 with reduce_len and strip_handles remove all the @\n",
    "for i in range(len(ct)):\n",
    "    ## remove the https://\n",
    "    ct[i] = re.sub(r'\\w+:\\/{2}[\\d\\w-]+(\\.[\\d\\w-]+)*(?:(?:\\/[^\\s/]*))*', '', ct[i])\n",
    "    ## to remove non-english tweet\n",
    "    ct[i] = re.sub(\"[^a-zA-Z0-9]+\", \" \", ct[i])\n",
    "    ## Lemmatize for converting a word to it's base form\n",
    "    ct[i] = lemmatizer.lemmatize(ct[i])\n",
    "    ct[i] = re.findall(r\"\\w+\", ct[i])\n",
    "ct"
   ]
  },
  {
   "cell_type": "markdown",
   "id": "developing-mounting",
   "metadata": {},
   "source": [
    "### Stopwords "
   ]
  },
  {
   "cell_type": "code",
   "execution_count": 17,
   "id": "bright-arlington",
   "metadata": {},
   "outputs": [],
   "source": [
    "## to remove the applesupport from the processed_text\n",
    "stop_words.add('applesupport')\n",
    "stop_words.add('115858')"
   ]
  },
  {
   "cell_type": "code",
   "execution_count": 18,
   "id": "distinguished-prospect",
   "metadata": {},
   "outputs": [],
   "source": [
    "for i in range(len(ct)):\n",
    "    word = []\n",
    "    for j in ct[i]:\n",
    "        if j in stop_words:\n",
    "            None\n",
    "        else:\n",
    "            word.append(j)\n",
    "    ct[i] = word \n"
   ]
  },
  {
   "cell_type": "code",
   "execution_count": 19,
   "id": "crucial-china",
   "metadata": {},
   "outputs": [
    {
     "data": {
      "text/plain": [
       "['iphone', '7', 'plus', 'yes']"
      ]
     },
     "execution_count": 19,
     "metadata": {},
     "output_type": "execute_result"
    }
   ],
   "source": [
    "ct[4]"
   ]
  },
  {
   "cell_type": "markdown",
   "id": "violent-ivory",
   "metadata": {},
   "source": [
    "## Settings a limit on the lenght of the tweet"
   ]
  },
  {
   "cell_type": "code",
   "execution_count": 20,
   "id": "meaning-remove",
   "metadata": {},
   "outputs": [],
   "source": [
    "min_length = 5\n",
    "max_length = 40\n",
    "## despite the tweeter character limit of 140\n",
    "## average character of tweet is 28, so 40 seems reasonable\n",
    "## tweets needs to be between 6-40\n",
    "for i in range(len(ct)):\n",
    "    if len(ct[i]) > max_length:\n",
    "        ct[i] = np.nan\n",
    "    elif len(ct[i]) <= min_length:\n",
    "        ct[i] = np.nan\n"
   ]
  },
  {
   "cell_type": "code",
   "execution_count": 21,
   "id": "refined-demographic",
   "metadata": {},
   "outputs": [
    {
     "data": {
      "text/plain": [
       "0     [newest, update, made, sure, download, yesterday]\n",
       "6     [hey, anyone, else, upgraded, ios11, 1, issues...\n",
       "12    [hello, internet, someone, explain, symbol, ke...\n",
       "13    [got, screenshot, saying, iphonex, reserved, 3...\n",
       "15    [thank, updated, phone, even, slower, barely, ...\n",
       "Name: customer_text, dtype: object"
      ]
     },
     "execution_count": 21,
     "metadata": {},
     "output_type": "execute_result"
    }
   ],
   "source": [
    "## delete the empty tweet\n",
    "ct.dropna(inplace = True)\n",
    "ct[:5]"
   ]
  },
  {
   "cell_type": "code",
   "execution_count": 22,
   "id": "minus-blackberry",
   "metadata": {},
   "outputs": [
    {
     "data": {
      "text/plain": [
       "80118"
      ]
     },
     "execution_count": 22,
     "metadata": {},
     "output_type": "execute_result"
    }
   ],
   "source": [
    "## we have filtered out about 12,000 tweets\n",
    "len(ct)"
   ]
  },
  {
   "cell_type": "markdown",
   "id": "dutch-implementation",
   "metadata": {},
   "source": [
    "### Merging the processd_text back to the dataframe"
   ]
  },
  {
   "cell_type": "code",
   "execution_count": 23,
   "id": "romantic-communist",
   "metadata": {},
   "outputs": [
    {
     "data": {
      "text/html": [
       "<div>\n",
       "<style scoped>\n",
       "    .dataframe tbody tr th:only-of-type {\n",
       "        vertical-align: middle;\n",
       "    }\n",
       "\n",
       "    .dataframe tbody tr th {\n",
       "        vertical-align: top;\n",
       "    }\n",
       "\n",
       "    .dataframe thead th {\n",
       "        text-align: right;\n",
       "    }\n",
       "</style>\n",
       "<table border=\"1\" class=\"dataframe\">\n",
       "  <thead>\n",
       "    <tr style=\"text-align: right;\">\n",
       "      <th></th>\n",
       "      <th>customer_text</th>\n",
       "      <th>author_id</th>\n",
       "      <th>date</th>\n",
       "      <th>apple_text</th>\n",
       "    </tr>\n",
       "  </thead>\n",
       "  <tbody>\n",
       "    <tr>\n",
       "      <th>0</th>\n",
       "      <td>@AppleSupport The newest update. I️ made sure ...</td>\n",
       "      <td>AppleSupport</td>\n",
       "      <td>Tue Oct 31 22:36:27 +0000 2017</td>\n",
       "      <td>@115854 Lets take a closer look into this issu...</td>\n",
       "    </tr>\n",
       "    <tr>\n",
       "      <th>1</th>\n",
       "      <td>@AppleSupport  https://t.co/NV0yucs0lB</td>\n",
       "      <td>AppleSupport</td>\n",
       "      <td>Tue Oct 31 22:27:49 +0000 2017</td>\n",
       "      <td>@115854 We're here for you. Which version of t...</td>\n",
       "    </tr>\n",
       "    <tr>\n",
       "      <th>2</th>\n",
       "      <td>@AppleSupport Tried resetting my settings .. r...</td>\n",
       "      <td>AppleSupport</td>\n",
       "      <td>Tue Oct 31 22:26:49 +0000 2017</td>\n",
       "      <td>@115855 Let's go to DM for the next steps. DM ...</td>\n",
       "    </tr>\n",
       "    <tr>\n",
       "      <th>3</th>\n",
       "      <td>@AppleSupport This is what it looks like https...</td>\n",
       "      <td>AppleSupport</td>\n",
       "      <td>Tue Oct 31 22:09:52 +0000 2017</td>\n",
       "      <td>@115855 Any steps tried since it started last ...</td>\n",
       "    </tr>\n",
       "    <tr>\n",
       "      <th>4</th>\n",
       "      <td>@AppleSupport I️ have an iPhone 7 Plus and yes...</td>\n",
       "      <td>AppleSupport</td>\n",
       "      <td>Tue Oct 31 21:57:00 +0000 2017</td>\n",
       "      <td>@115855 That's great it has iOS 11.1 as we can...</td>\n",
       "    </tr>\n",
       "  </tbody>\n",
       "</table>\n",
       "</div>"
      ],
      "text/plain": [
       "                                       customer_text     author_id  \\\n",
       "0  @AppleSupport The newest update. I️ made sure ...  AppleSupport   \n",
       "1             @AppleSupport  https://t.co/NV0yucs0lB  AppleSupport   \n",
       "2  @AppleSupport Tried resetting my settings .. r...  AppleSupport   \n",
       "3  @AppleSupport This is what it looks like https...  AppleSupport   \n",
       "4  @AppleSupport I️ have an iPhone 7 Plus and yes...  AppleSupport   \n",
       "\n",
       "                             date  \\\n",
       "0  Tue Oct 31 22:36:27 +0000 2017   \n",
       "1  Tue Oct 31 22:27:49 +0000 2017   \n",
       "2  Tue Oct 31 22:26:49 +0000 2017   \n",
       "3  Tue Oct 31 22:09:52 +0000 2017   \n",
       "4  Tue Oct 31 21:57:00 +0000 2017   \n",
       "\n",
       "                                          apple_text  \n",
       "0  @115854 Lets take a closer look into this issu...  \n",
       "1  @115854 We're here for you. Which version of t...  \n",
       "2  @115855 Let's go to DM for the next steps. DM ...  \n",
       "3  @115855 Any steps tried since it started last ...  \n",
       "4  @115855 That's great it has iOS 11.1 as we can...  "
      ]
     },
     "execution_count": 23,
     "metadata": {},
     "output_type": "execute_result"
    }
   ],
   "source": [
    "ap.head()"
   ]
  },
  {
   "cell_type": "code",
   "execution_count": 24,
   "id": "anonymous-ukraine",
   "metadata": {},
   "outputs": [
    {
     "data": {
      "text/html": [
       "<div>\n",
       "<style scoped>\n",
       "    .dataframe tbody tr th:only-of-type {\n",
       "        vertical-align: middle;\n",
       "    }\n",
       "\n",
       "    .dataframe tbody tr th {\n",
       "        vertical-align: top;\n",
       "    }\n",
       "\n",
       "    .dataframe thead th {\n",
       "        text-align: right;\n",
       "    }\n",
       "</style>\n",
       "<table border=\"1\" class=\"dataframe\">\n",
       "  <thead>\n",
       "    <tr style=\"text-align: right;\">\n",
       "      <th></th>\n",
       "      <th>processed_tweet</th>\n",
       "      <th>customer_tweet</th>\n",
       "      <th>apple_tweet</th>\n",
       "    </tr>\n",
       "  </thead>\n",
       "  <tbody>\n",
       "    <tr>\n",
       "      <th>0</th>\n",
       "      <td>[newest, update, made, sure, download, yesterday]</td>\n",
       "      <td>@AppleSupport The newest update. I️ made sure ...</td>\n",
       "      <td>@115854 Lets take a closer look into this issu...</td>\n",
       "    </tr>\n",
       "    <tr>\n",
       "      <th>6</th>\n",
       "      <td>[hey, anyone, else, upgraded, ios11, 1, issues...</td>\n",
       "      <td>Hey @AppleSupport and anyone else who upgraded...</td>\n",
       "      <td>@115856 Hey, let's work together to figure out...</td>\n",
       "    </tr>\n",
       "    <tr>\n",
       "      <th>12</th>\n",
       "      <td>[hello, internet, someone, explain, symbol, ke...</td>\n",
       "      <td>Hello, internet. Can someone explain why this ...</td>\n",
       "      <td>@115861 You're in the right place; we'll do al...</td>\n",
       "    </tr>\n",
       "    <tr>\n",
       "      <th>13</th>\n",
       "      <td>[got, screenshot, saying, iphonex, reserved, 3...</td>\n",
       "      <td>@AppleSupport I’ve got a screenshot saying my ...</td>\n",
       "      <td>@115863 Go ahead and send us a DM please. Let ...</td>\n",
       "    </tr>\n",
       "    <tr>\n",
       "      <th>15</th>\n",
       "      <td>[thank, updated, phone, even, slower, barely, ...</td>\n",
       "      <td>Thank you @AppleSupport I updated my phone and...</td>\n",
       "      <td>@115864 We'd like to help, but we'll need more...</td>\n",
       "    </tr>\n",
       "  </tbody>\n",
       "</table>\n",
       "</div>"
      ],
      "text/plain": [
       "                                      processed_tweet  \\\n",
       "0   [newest, update, made, sure, download, yesterday]   \n",
       "6   [hey, anyone, else, upgraded, ios11, 1, issues...   \n",
       "12  [hello, internet, someone, explain, symbol, ke...   \n",
       "13  [got, screenshot, saying, iphonex, reserved, 3...   \n",
       "15  [thank, updated, phone, even, slower, barely, ...   \n",
       "\n",
       "                                       customer_tweet  \\\n",
       "0   @AppleSupport The newest update. I️ made sure ...   \n",
       "6   Hey @AppleSupport and anyone else who upgraded...   \n",
       "12  Hello, internet. Can someone explain why this ...   \n",
       "13  @AppleSupport I’ve got a screenshot saying my ...   \n",
       "15  Thank you @AppleSupport I updated my phone and...   \n",
       "\n",
       "                                          apple_tweet  \n",
       "0   @115854 Lets take a closer look into this issu...  \n",
       "6   @115856 Hey, let's work together to figure out...  \n",
       "12  @115861 You're in the right place; we'll do al...  \n",
       "13  @115863 Go ahead and send us a DM please. Let ...  \n",
       "15  @115864 We'd like to help, but we'll need more...  "
      ]
     },
     "execution_count": 24,
     "metadata": {},
     "output_type": "execute_result"
    }
   ],
   "source": [
    "## using index to merge the processed_tweet\n",
    "customer_tweet = ap['customer_text'].loc[ct.index]\n",
    "apple_tweet = ap['apple_text'].loc[ct.index]\n",
    "\n",
    "## new and clean dataframe\n",
    "df = pd.DataFrame({'processed_tweet': ct, 'customer_tweet': customer_tweet, 'apple_tweet': apple_tweet})\n",
    "df.head()"
   ]
  },
  {
   "cell_type": "markdown",
   "id": "ceramic-today",
   "metadata": {},
   "source": [
    "## INTENT and Keyword Searching\n",
    "- in order for the chatbot to know how to response to the incoming text we need to identify keywords that can response based on the keyword or intent"
   ]
  },
  {
   "cell_type": "code",
   "execution_count": 25,
   "id": "abstract-wrong",
   "metadata": {},
   "outputs": [
    {
     "name": "stdout",
     "output_type": "stream",
     "text": [
      "14328\n"
     ]
    },
    {
     "data": {
      "text/html": [
       "<div>\n",
       "<style scoped>\n",
       "    .dataframe tbody tr th:only-of-type {\n",
       "        vertical-align: middle;\n",
       "    }\n",
       "\n",
       "    .dataframe tbody tr th {\n",
       "        vertical-align: top;\n",
       "    }\n",
       "\n",
       "    .dataframe thead th {\n",
       "        text-align: right;\n",
       "    }\n",
       "</style>\n",
       "<table border=\"1\" class=\"dataframe\">\n",
       "  <thead>\n",
       "    <tr style=\"text-align: right;\">\n",
       "      <th></th>\n",
       "      <th>processed_tweet</th>\n",
       "      <th>customer_tweet</th>\n",
       "      <th>apple_tweet</th>\n",
       "    </tr>\n",
       "  </thead>\n",
       "  <tbody>\n",
       "    <tr>\n",
       "      <th>55</th>\n",
       "      <td>[ios, 11, 1, getting, worse, months]</td>\n",
       "      <td>@AppleSupport iOS 11.1 it’s been getting worse...</td>\n",
       "      <td>@116337 Please meet with us in DM. We'd like t...</td>\n",
       "    </tr>\n",
       "    <tr>\n",
       "      <th>59</th>\n",
       "      <td>[updated, ios, iphone7, icloud, backup, greyed...</td>\n",
       "      <td>@115858 Just updated iOS on iPhone7, now iClou...</td>\n",
       "      <td>@116339 Check out this link: https://t.co/Lr8z...</td>\n",
       "    </tr>\n",
       "    <tr>\n",
       "      <th>64</th>\n",
       "      <td>[bug, calendar, app, fixed, upgraded, ios, 11,...</td>\n",
       "      <td>@115858 when will the bug in the calendar app ...</td>\n",
       "      <td>@116342 We'd like to help. What is going on wi...</td>\n",
       "    </tr>\n",
       "    <tr>\n",
       "      <th>77</th>\n",
       "      <td>[sorted, thanks, ios, update, needed, change, ...</td>\n",
       "      <td>@AppleSupport It’s sorted. Thanks. iOS update ...</td>\n",
       "      <td>@116351 We're glad to hear that's sorted out f...</td>\n",
       "    </tr>\n",
       "    <tr>\n",
       "      <th>78</th>\n",
       "      <td>[ios, 11, 0, 3, 6s, cannot, adjust, alarm, vol...</td>\n",
       "      <td>@AppleSupport ios 11.0.3 on 6s. Cannot adjust ...</td>\n",
       "      <td>@116351 We'd love to help with your alarm volu...</td>\n",
       "    </tr>\n",
       "  </tbody>\n",
       "</table>\n",
       "</div>"
      ],
      "text/plain": [
       "                                      processed_tweet  \\\n",
       "55               [ios, 11, 1, getting, worse, months]   \n",
       "59  [updated, ios, iphone7, icloud, backup, greyed...   \n",
       "64  [bug, calendar, app, fixed, upgraded, ios, 11,...   \n",
       "77  [sorted, thanks, ios, update, needed, change, ...   \n",
       "78  [ios, 11, 0, 3, 6s, cannot, adjust, alarm, vol...   \n",
       "\n",
       "                                       customer_tweet  \\\n",
       "55  @AppleSupport iOS 11.1 it’s been getting worse...   \n",
       "59  @115858 Just updated iOS on iPhone7, now iClou...   \n",
       "64  @115858 when will the bug in the calendar app ...   \n",
       "77  @AppleSupport It’s sorted. Thanks. iOS update ...   \n",
       "78  @AppleSupport ios 11.0.3 on 6s. Cannot adjust ...   \n",
       "\n",
       "                                          apple_tweet  \n",
       "55  @116337 Please meet with us in DM. We'd like t...  \n",
       "59  @116339 Check out this link: https://t.co/Lr8z...  \n",
       "64  @116342 We'd like to help. What is going on wi...  \n",
       "77  @116351 We're glad to hear that's sorted out f...  \n",
       "78  @116351 We'd love to help with your alarm volu...  "
      ]
     },
     "execution_count": 25,
     "metadata": {},
     "output_type": "execute_result"
    }
   ],
   "source": [
    "## searching intents\n",
    "ios = [(i,j) for i,j in enumerate(df['processed_tweet']) if 'ios' in j]\n",
    "ios_tweet = df.iloc[[i[0] for i in ios]]\n",
    "print(len(ios_tweet))\n",
    "ios_tweet.head()"
   ]
  },
  {
   "cell_type": "markdown",
   "id": "fiscal-certification",
   "metadata": {
    "jupyter": {
     "outputs_hidden": true
    }
   },
   "source": [
    "### INTENTS"
   ]
  },
  {
   "cell_type": "code",
   "execution_count": 26,
   "id": "joint-disclaimer",
   "metadata": {},
   "outputs": [],
   "source": [
    "intents = {\"greeting\": [\"hi there\", \"how are you?\", \"is anyone there?\",\"hey\",\"hola\", \"hello\", \"good day\"],\n",
    "          \"update\": ['update', 'download'],\n",
    "          \"upgrade\": ['upgraded', 'new'],\n",
    "          \"app\" : ['app', 'crash'],\n",
    "          \"ios_update\" : ['ios', 'icloud'],\n",
    "          \"battery\": ['battery'],\n",
    "          \"mac\": ['mac', 'macbook', 'laptop'],\n",
    "          'music': ['itunes', 'music', 'songs'], \n",
    "          'forgot_password': ['login', 'password', 'account', 'forgot password'],\n",
    "          'repair': ['repair', 'fix', 'broken', 'slow'],\n",
    "          'payment': ['credit', 'card', 'payment', 'pay']}"
   ]
  },
  {
   "cell_type": "code",
   "execution_count": 27,
   "id": "located-organizer",
   "metadata": {},
   "outputs": [],
   "source": [
    "def get_key_tweets(series, keywords):\n",
    "    keyword_tweets = []\n",
    "    for tweet in series:\n",
    "        # Want to check if keyword is in tweets\n",
    "        for keyword in keywords:\n",
    "            if keyword in tweet:\n",
    "                keyword_tweets.append(tweet)\n",
    "    return keyword_tweets"
   ]
  },
  {
   "cell_type": "code",
   "execution_count": 29,
   "id": "dirty-resolution",
   "metadata": {},
   "outputs": [
    {
     "data": {
      "text/plain": [
       "2072"
      ]
     },
     "execution_count": 29,
     "metadata": {},
     "output_type": "execute_result"
    }
   ],
   "source": [
    "len(get_key_tweets(df['processed_tweet'], 'greeting'))"
   ]
  },
  {
   "cell_type": "code",
   "execution_count": 30,
   "id": "vocational-expansion",
   "metadata": {},
   "outputs": [
    {
     "data": {
      "text/plain": [
       "[4134, 14824, 8818, 4733, 15719, 7566, 2844, 4797, 1784, 12703, 1752]"
      ]
     },
     "execution_count": 30,
     "metadata": {},
     "output_type": "execute_result"
    }
   ],
   "source": [
    "intent_lengths = [len(get_key_tweets(df['processed_tweet'], intents[intent])) for intent in intents.keys()]\n",
    "intent_lengths"
   ]
  },
  {
   "cell_type": "code",
   "execution_count": 31,
   "id": "relative-tribe",
   "metadata": {},
   "outputs": [
    {
     "data": {
      "text/html": [
       "<div>\n",
       "<style scoped>\n",
       "    .dataframe tbody tr th:only-of-type {\n",
       "        vertical-align: middle;\n",
       "    }\n",
       "\n",
       "    .dataframe tbody tr th {\n",
       "        vertical-align: top;\n",
       "    }\n",
       "\n",
       "    .dataframe thead th {\n",
       "        text-align: right;\n",
       "    }\n",
       "</style>\n",
       "<table border=\"1\" class=\"dataframe\">\n",
       "  <thead>\n",
       "    <tr style=\"text-align: right;\">\n",
       "      <th></th>\n",
       "      <th>intents</th>\n",
       "      <th>intent_lengths</th>\n",
       "    </tr>\n",
       "  </thead>\n",
       "  <tbody>\n",
       "    <tr>\n",
       "      <th>4</th>\n",
       "      <td>ios_update</td>\n",
       "      <td>15719</td>\n",
       "    </tr>\n",
       "    <tr>\n",
       "      <th>1</th>\n",
       "      <td>update</td>\n",
       "      <td>14824</td>\n",
       "    </tr>\n",
       "    <tr>\n",
       "      <th>9</th>\n",
       "      <td>repair</td>\n",
       "      <td>12703</td>\n",
       "    </tr>\n",
       "    <tr>\n",
       "      <th>2</th>\n",
       "      <td>upgrade</td>\n",
       "      <td>8818</td>\n",
       "    </tr>\n",
       "    <tr>\n",
       "      <th>5</th>\n",
       "      <td>battery</td>\n",
       "      <td>7566</td>\n",
       "    </tr>\n",
       "  </tbody>\n",
       "</table>\n",
       "</div>"
      ],
      "text/plain": [
       "      intents  intent_lengths\n",
       "4  ios_update           15719\n",
       "1      update           14824\n",
       "9      repair           12703\n",
       "2     upgrade            8818\n",
       "5     battery            7566"
      ]
     },
     "execution_count": 31,
     "metadata": {},
     "output_type": "execute_result"
    }
   ],
   "source": [
    "keyword = pd.DataFrame({'intents': list(intents.keys()), 'intent_lengths': intent_lengths}).sort_values('intent_lengths', ascending = False)\n",
    "keyword.head()"
   ]
  },
  {
   "cell_type": "code",
   "execution_count": 32,
   "id": "atomic-dealing",
   "metadata": {},
   "outputs": [
    {
     "data": {
      "image/png": "[encoded data removed]",
      "text/plain": [
       "<Figure size 648x504 with 1 Axes>"
      ]
     },
     "metadata": {
      "needs_background": "light"
     },
     "output_type": "display_data"
    }
   ],
   "source": [
    "# Visualization\n",
    "plt.figure(figsize=(9,7))\n",
    "plt.bar(keyword['intents'], keyword['intent_lengths'], color = '#00acee')\n",
    "plt.title('Amount of Tweets on a Intents')\n",
    "plt.xlabel('Intent')\n",
    "plt.xticks(rotation=90)\n",
    "plt.ylabel('Number of Tweets')\n",
    "plt.savefig('intents.png', bbox_inches='tight')\n",
    "plt.show()"
   ]
  },
  {
   "cell_type": "code",
   "execution_count": 33,
   "id": "closed-merit",
   "metadata": {},
   "outputs": [
    {
     "data": {
      "text/plain": [
       "[['hello',\n",
       "  'internet',\n",
       "  'someone',\n",
       "  'explain',\n",
       "  'symbol',\n",
       "  'keeps',\n",
       "  'appearing',\n",
       "  'phone',\n",
       "  'try',\n",
       "  'type',\n",
       "  'letter',\n",
       "  'also'],\n",
       " ['got',\n",
       "  'screenshot',\n",
       "  'saying',\n",
       "  'iphonex',\n",
       "  'reserved',\n",
       "  '3rd',\n",
       "  'email',\n",
       "  'saying',\n",
       "  '18th',\n",
       "  'happened']]"
      ]
     },
     "execution_count": 33,
     "metadata": {},
     "output_type": "execute_result"
    }
   ],
   "source": [
    "keywords = keyword['intents']\n",
    "\n",
    "non_keyword_tweets = []\n",
    "for tweet in df['processed_tweet']:\n",
    "    if not any(i in tweet for i in keywords):\n",
    "        non_keyword_tweets.append(tweet)\n",
    "non_keyword_tweets[:2]"
   ]
  },
  {
   "cell_type": "markdown",
   "id": "interesting-allowance",
   "metadata": {},
   "source": [
    "## Data Training and Generating "
   ]
  },
  {
   "cell_type": "code",
   "execution_count": 34,
   "id": "alleged-affect",
   "metadata": {},
   "outputs": [
    {
     "data": {
      "text/plain": [
       "{'greeting': ['hi there',\n",
       "  'how are you?',\n",
       "  'is anyone there?',\n",
       "  'hey',\n",
       "  'hola',\n",
       "  'hello',\n",
       "  'good day'],\n",
       " 'update': ['update', 'download'],\n",
       " 'upgrade': ['upgraded', 'new'],\n",
       " 'app': ['app', 'crash'],\n",
       " 'ios_update': ['ios', 'icloud'],\n",
       " 'battery': ['battery'],\n",
       " 'mac': ['mac', 'macbook', 'laptop'],\n",
       " 'music': ['itunes', 'music', 'songs'],\n",
       " 'forgot_password': ['login', 'password', 'account', 'forgot password'],\n",
       " 'repair': ['repair', 'fix', 'broken', 'slow'],\n",
       " 'payment': ['credit', 'card', 'payment', 'pay']}"
      ]
     },
     "execution_count": 34,
     "metadata": {},
     "output_type": "execute_result"
    }
   ],
   "source": [
    "intents"
   ]
  },
  {
   "cell_type": "code",
   "execution_count": 35,
   "id": "native-organic",
   "metadata": {},
   "outputs": [
    {
     "data": {
      "text/plain": [
       "0                newest update made sure download yesterday\n",
       "6         hey anyone else upgraded ios11 1 issues capita...\n",
       "12        hello internet someone explain symbol keeps ap...\n",
       "13        got screenshot saying iphonex reserved 3rd ema...\n",
       "15        thank updated phone even slower barely works t...\n",
       "                                ...                        \n",
       "106643    anyone issues osx highsierra slack zoom multip...\n",
       "106644    hey able duplicate file pages searched really ...\n",
       "106645    yo weird glitch w capital attempt make tweets ...\n",
       "106646    fuck phone keeps hanging calls showing call fa...\n",
       "106647    anyone iphone issues phone freezing randomly 7...\n",
       "Name: processed_tweet, Length: 80118, dtype: object"
      ]
     },
     "execution_count": 35,
     "metadata": {},
     "output_type": "execute_result"
    }
   ],
   "source": [
    "extra_tweets = {'update': 'update download new',\n",
    "           'forgot_password': 'login password account lost',\n",
    "           'info': 'info information',\n",
    "           'battery': 'battery power',\n",
    "           'location': 'nearest apple location store'}\n",
    "new = list(extra_tweets.values())\n",
    "new = pd.Series(new)\n",
    "extra_df = df['processed_tweet'].copy()\n",
    "for i in extra_df.index:\n",
    "    extra_df[i] = str(\" \".join(extra_df[i]))\n",
    "extra_df"
   ]
  },
  {
   "cell_type": "code",
   "execution_count": 36,
   "id": "dated-strip",
   "metadata": {},
   "outputs": [
    {
     "data": {
      "text/plain": [
       "0            newest update made sure download yesterday\n",
       "6     hey anyone else upgraded ios11 1 issues capita...\n",
       "12    hello internet someone explain symbol keeps ap...\n",
       "13    got screenshot saying iphonex reserved 3rd ema...\n",
       "15    thank updated phone even slower barely works t...\n",
       "                            ...                        \n",
       "0                                   update download new\n",
       "1                           login password account lost\n",
       "2                                      info information\n",
       "3                                         battery power\n",
       "4                          nearest apple location store\n",
       "Length: 80123, dtype: object"
      ]
     },
     "execution_count": 36,
     "metadata": {},
     "output_type": "execute_result"
    }
   ],
   "source": [
    "extra_df = pd.concat([extra_df, new], axis = 0)\n",
    "extra_df"
   ]
  },
  {
   "cell_type": "markdown",
   "id": "neither-injection",
   "metadata": {},
   "source": [
    "### Uncomment it if you don't have the model already, it takes a long time to run"
   ]
  },
  {
   "cell_type": "code",
   "execution_count": 37,
   "id": "advisory-counter",
   "metadata": {},
   "outputs": [],
   "source": [
    "## don't run it it takes a lot of time, just load the model\n",
    "## TaggedDocument tagged each data with an id \n",
    "# data = [TaggedDocument(words = word_tokenize(j.lower()), tags = [str(i)])  for i, j in enumerate(extra_df)]\n",
    "# ## Instantiate the model\n",
    "# model = Doc2Vec(vector_size = 10, alpha = 0.025, min_alpha= 0.00025, min_count = 1, dm = 1)\n",
    "# model.build_vocab(data)\n",
    "# for i in range(50):    \n",
    "#     model.train(data, total_examples = model.corpus_count, epochs = model.epochs)\n",
    "#     model.alpha -= 0.0002\n",
    "#     model.min_alpha = model.alpha\n",
    "# model.save('Doc2Vec_model')"
   ]
  },
  {
   "cell_type": "code",
   "execution_count": 38,
   "id": "approved-memory",
   "metadata": {},
   "outputs": [
    {
     "name": "stderr",
     "output_type": "stream",
     "text": [
      "<ipython-input-38-71d057a83da6>:2: DeprecationWarning: Call to deprecated `docvecs` (The `docvecs` property has been renamed `dv`.).\n",
      "  doc2vec = np.array([model.docvecs[i] for i in range(extra_df.shape[0])])\n"
     ]
    },
    {
     "data": {
      "text/plain": [
       "array([[-2.21213   ,  3.5645392 , -1.9339312 , ...,  3.2990324 ,\n",
       "         5.564972  , -0.70876384],\n",
       "       [-8.694999  , -0.9035936 ,  4.2110004 , ...,  5.0546193 ,\n",
       "         5.286602  , -0.8092168 ],\n",
       "       [ 6.332759  , -2.857031  ,  1.4225491 , ...,  0.10111625,\n",
       "         3.643376  , -3.1269062 ],\n",
       "       ...,\n",
       "       [ 2.2974558 ,  1.193835  ,  0.31321618, ..., -0.09734522,\n",
       "         1.692781  , -4.249531  ],\n",
       "       [-0.32686153, -1.5296396 , -2.2415874 , ...,  3.6393542 ,\n",
       "        -1.8085347 , -0.3786013 ],\n",
       "       [ 0.27811956,  3.304985  ,  0.51724523, ...,  3.2651856 ,\n",
       "        -2.4683857 , -6.875318  ]], dtype=float32)"
      ]
     },
     "execution_count": 38,
     "metadata": {},
     "output_type": "execute_result"
    }
   ],
   "source": [
    "model = Doc2Vec.load('Doc2Vec_model')\n",
    "doc2vec = np.array([model.docvecs[i] for i in range(extra_df.shape[0])])\n",
    "doc2vec"
   ]
  },
  {
   "cell_type": "code",
   "execution_count": 39,
   "id": "invisible-clock",
   "metadata": {},
   "outputs": [
    {
     "data": {
      "text/plain": [
       "(80123, 10)"
      ]
     },
     "execution_count": 39,
     "metadata": {},
     "output_type": "execute_result"
    }
   ],
   "source": [
    "doc2vec.shape"
   ]
  },
  {
   "cell_type": "code",
   "execution_count": 40,
   "id": "brazilian-involvement",
   "metadata": {},
   "outputs": [],
   "source": [
    "## intents\n",
    "intents2 = {'Battery': ['io', 'drain', 'battery', 'iphone', 'twice', 'fast', 'io', 'help'],\n",
    "    'Update': ['new', 'update', 'i️', 'make', 'sure', 'download', 'yesterday'],\n",
    "    'iphone': ['instal', 'io', 'make', 'iphone', 'slow', 'work', 'properly', 'help'],\n",
    "    'app': ['app', 'still', 'longer', 'able', 'control', 'lockscreen'],\n",
    "    'mac': ['help','mac','app','store','open','can','not','update','macbook','pro','currently','run','o','x',\n",
    "  'yosemite'], 'greeting': ['hi', 'hello', 'yo', 'hey', 'whats', 'up']\n",
    "    }"
   ]
  },
  {
   "cell_type": "code",
   "execution_count": 41,
   "id": "naval-ocean",
   "metadata": {},
   "outputs": [
    {
     "data": {
      "text/plain": [
       "{'update': 'update download new',\n",
       " 'forgot_password': 'login password account lost',\n",
       " 'info': 'info information',\n",
       " 'battery': 'battery power',\n",
       " 'location': 'nearest apple location store'}"
      ]
     },
     "execution_count": 41,
     "metadata": {},
     "output_type": "execute_result"
    }
   ],
   "source": [
    "extra_tweets"
   ]
  },
  {
   "cell_type": "code",
   "execution_count": 43,
   "id": "serial-webster",
   "metadata": {},
   "outputs": [
    {
     "name": "stderr",
     "output_type": "stream",
     "text": [
      "<ipython-input-43-38d2e675138e>:1: DeprecationWarning: Call to deprecated `docvecs` (The `docvecs` property has been renamed `dv`.).\n",
      "  model.docvecs.most_similar('80118')\n"
     ]
    },
    {
     "data": {
      "text/plain": [
       "[('160', 0.9570398926734924),\n",
       " ('46406', 0.9408049583435059),\n",
       " ('73985', 0.9372326135635376),\n",
       " ('61423', 0.9367526173591614),\n",
       " ('33597', 0.9346528649330139),\n",
       " ('62684', 0.9323944449424744),\n",
       " ('46780', 0.9316598773002625),\n",
       " ('13936', 0.9297910928726196),\n",
       " ('5191', 0.929779052734375),\n",
       " ('49118', 0.9290613532066345)]"
      ]
     },
     "execution_count": 43,
     "metadata": {},
     "output_type": "execute_result"
    }
   ],
   "source": [
    "model.docvecs.most_similar('80118')"
   ]
  },
  {
   "cell_type": "code",
   "execution_count": 48,
   "id": "spanish-danger",
   "metadata": {},
   "outputs": [
    {
     "name": "stderr",
     "output_type": "stream",
     "text": [
      "<ipython-input-48-3a8b5fbea304>:1: DeprecationWarning: Call to deprecated `docvecs` (The `docvecs` property has been renamed `dv`.).\n",
      "  similar_doc = model.docvecs.most_similar('80120', topn = 1000)\n"
     ]
    },
    {
     "data": {
      "text/plain": [
       "[('73141', 0.9471955895423889),\n",
       " ('10262', 0.9436327219009399),\n",
       " ('18906', 0.9429668188095093),\n",
       " ('18649', 0.9395617246627808)]"
      ]
     },
     "execution_count": 48,
     "metadata": {},
     "output_type": "execute_result"
    }
   ],
   "source": [
    "similar_doc = model.docvecs.most_similar('80120', topn = 1000)\n",
    "similar_doc[:4]"
   ]
  },
  {
   "cell_type": "code",
   "execution_count": 44,
   "id": "excited-kernel",
   "metadata": {},
   "outputs": [
    {
     "data": {
      "text/plain": [
       "{'update': '80118',\n",
       " 'forgot_password': '80119',\n",
       " 'info': '80120',\n",
       " 'battery': '80121',\n",
       " 'location': '80122'}"
      ]
     },
     "execution_count": 44,
     "metadata": {},
     "output_type": "execute_result"
    }
   ],
   "source": [
    "intents_tags = {'update': '80118', 'forgot_password': '80119', 'info': '80120','battery': '80121', 'location': '80122'}\n",
    "intents_tags"
   ]
  },
  {
   "cell_type": "code",
   "execution_count": 45,
   "id": "peripheral-rainbow",
   "metadata": {},
   "outputs": [
    {
     "data": {
      "text/plain": [
       "[['need', 'something', 'battery', 'life', 'sucks', 'ass'],\n",
       " ['hey',\n",
       "  'anyone',\n",
       "  'else',\n",
       "  'upgraded',\n",
       "  'ios11',\n",
       "  '1',\n",
       "  'issues',\n",
       "  'capital',\n",
       "  'mail',\n",
       "  'app',\n",
       "  'puts']]"
      ]
     },
     "execution_count": 45,
     "metadata": {},
     "output_type": "execute_result"
    }
   ],
   "source": [
    "list(ct.iloc[[10,1]].values)"
   ]
  },
  {
   "cell_type": "code",
   "execution_count": 46,
   "id": "heavy-somerset",
   "metadata": {},
   "outputs": [
    {
     "data": {
      "text/plain": [
       "pandas.core.series.Series"
      ]
     },
     "execution_count": 46,
     "metadata": {},
     "output_type": "execute_result"
    }
   ],
   "source": [
    "type(ct)"
   ]
  },
  {
   "cell_type": "code",
   "execution_count": 51,
   "id": "fixed-raising",
   "metadata": {},
   "outputs": [],
   "source": [
    "## create some intent\n",
    "def generate_intent(target, itag):\n",
    "    similar_doc = model.docvecs.most_similar(itag,topn = target)\n",
    "    # Getting just the indexes\n",
    "    indexes = [int(i[0]) for i in similar_doc]\n",
    "\n",
    "    return list(ct.iloc[indexes].values)\n",
    "\n",
    "def insert_manually(target, prototype):\n",
    "    factor = math.ceil(target / len(prototype))\n",
    "    content = prototype * factor\n",
    "    return [content[i] for i in range(target)]\n",
    "\n",
    "def insert_hybrid(manual_target, generated_target, prototype, itag):\n",
    "    return insert_manually(manual_target, prototype) + list(generate_intent(generated_target, itag))"
   ]
  },
  {
   "cell_type": "code",
   "execution_count": 52,
   "id": "solved-interpretation",
   "metadata": {},
   "outputs": [
    {
     "name": "stdout",
     "output_type": "stream",
     "text": [
      "(1000, 8)\n"
     ]
    },
    {
     "name": "stderr",
     "output_type": "stream",
     "text": [
      "<ipython-input-51-aab686ff6639>:3: DeprecationWarning: Call to deprecated `docvecs` (The `docvecs` property has been renamed `dv`.).\n",
      "  similar_doc = model.docvecs.most_similar(itag,topn = target)\n"
     ]
    },
    {
     "data": {
      "text/html": [
       "<div>\n",
       "<style scoped>\n",
       "    .dataframe tbody tr th:only-of-type {\n",
       "        vertical-align: middle;\n",
       "    }\n",
       "\n",
       "    .dataframe tbody tr th {\n",
       "        vertical-align: top;\n",
       "    }\n",
       "\n",
       "    .dataframe thead th {\n",
       "        text-align: right;\n",
       "    }\n",
       "</style>\n",
       "<table border=\"1\" class=\"dataframe\">\n",
       "  <thead>\n",
       "    <tr style=\"text-align: right;\">\n",
       "      <th></th>\n",
       "      <th>update</th>\n",
       "      <th>forgot_password</th>\n",
       "      <th>info</th>\n",
       "      <th>battery</th>\n",
       "      <th>location</th>\n",
       "      <th>speak_representative</th>\n",
       "      <th>greeting</th>\n",
       "      <th>goodbye</th>\n",
       "    </tr>\n",
       "  </thead>\n",
       "  <tbody>\n",
       "    <tr>\n",
       "      <th>0</th>\n",
       "      <td>[want, update]</td>\n",
       "      <td>[forgot, my, pass]</td>\n",
       "      <td>[need, information]</td>\n",
       "      <td>[since, updating, 11, 1, battery, life, 6s, ab...</td>\n",
       "      <td>[188, 37613, 11968, 37614, solution, chat, sid...</td>\n",
       "      <td>[talk, human, please]</td>\n",
       "      <td>[hi]</td>\n",
       "      <td>[goodbye]</td>\n",
       "    </tr>\n",
       "    <tr>\n",
       "      <th>1</th>\n",
       "      <td>[update, not, working]</td>\n",
       "      <td>[forgot, my, login, details]</td>\n",
       "      <td>[want, to, know, about]</td>\n",
       "      <td>[bedtime, alarms, work, slept, many, times, si...</td>\n",
       "      <td>[check, airpods, warranty, check, coverage, pa...</td>\n",
       "      <td>[let, me, talk, to, apple, support]</td>\n",
       "      <td>[hello]</td>\n",
       "      <td>[bye]</td>\n",
       "    </tr>\n",
       "    <tr>\n",
       "      <th>2</th>\n",
       "      <td>[phone, need, update]</td>\n",
       "      <td>[cannot, log, in, password]</td>\n",
       "      <td>[what, are, macbook, stats]</td>\n",
       "      <td>[ios, 11, totally, destroyed, iphone, 6, batte...</td>\n",
       "      <td>[hi, apple, check, iphone, battery, health, wi...</td>\n",
       "      <td>[can, i, speak, agent, person]</td>\n",
       "      <td>[whats, up]</td>\n",
       "      <td>[thank]</td>\n",
       "    </tr>\n",
       "    <tr>\n",
       "      <th>3</th>\n",
       "      <td>[want, update]</td>\n",
       "      <td>[lost, account, recover, password]</td>\n",
       "      <td>[any, info, next, release, ?]</td>\n",
       "      <td>[silent, mode, swtch, wch, abve, vol, cntrl, b...</td>\n",
       "      <td>[smart, cover, case, 2nd, gen, 12, 9, inch, ip...</td>\n",
       "      <td>[talk, human, please]</td>\n",
       "      <td>[good, morning]</td>\n",
       "      <td>[thanks]</td>\n",
       "    </tr>\n",
       "    <tr>\n",
       "      <th>4</th>\n",
       "      <td>[update, not, working]</td>\n",
       "      <td>[forgot, my, pass]</td>\n",
       "      <td>[need, information]</td>\n",
       "      <td>[ios, 11, 0, 3, draining, iphone, 7, battery, ...</td>\n",
       "      <td>[friend, mac, book, pro, 2016, screen, color, ...</td>\n",
       "      <td>[let, me, talk, to, apple, support]</td>\n",
       "      <td>[good, evening]</td>\n",
       "      <td>[done]</td>\n",
       "    </tr>\n",
       "  </tbody>\n",
       "</table>\n",
       "</div>"
      ],
      "text/plain": [
       "                   update                     forgot_password  \\\n",
       "0          [want, update]                  [forgot, my, pass]   \n",
       "1  [update, not, working]        [forgot, my, login, details]   \n",
       "2   [phone, need, update]         [cannot, log, in, password]   \n",
       "3          [want, update]  [lost, account, recover, password]   \n",
       "4  [update, not, working]                  [forgot, my, pass]   \n",
       "\n",
       "                            info  \\\n",
       "0            [need, information]   \n",
       "1        [want, to, know, about]   \n",
       "2    [what, are, macbook, stats]   \n",
       "3  [any, info, next, release, ?]   \n",
       "4            [need, information]   \n",
       "\n",
       "                                             battery  \\\n",
       "0  [since, updating, 11, 1, battery, life, 6s, ab...   \n",
       "1  [bedtime, alarms, work, slept, many, times, si...   \n",
       "2  [ios, 11, totally, destroyed, iphone, 6, batte...   \n",
       "3  [silent, mode, swtch, wch, abve, vol, cntrl, b...   \n",
       "4  [ios, 11, 0, 3, draining, iphone, 7, battery, ...   \n",
       "\n",
       "                                            location  \\\n",
       "0  [188, 37613, 11968, 37614, solution, chat, sid...   \n",
       "1  [check, airpods, warranty, check, coverage, pa...   \n",
       "2  [hi, apple, check, iphone, battery, health, wi...   \n",
       "3  [smart, cover, case, 2nd, gen, 12, 9, inch, ip...   \n",
       "4  [friend, mac, book, pro, 2016, screen, color, ...   \n",
       "\n",
       "                  speak_representative         greeting    goodbye  \n",
       "0                [talk, human, please]             [hi]  [goodbye]  \n",
       "1  [let, me, talk, to, apple, support]          [hello]      [bye]  \n",
       "2       [can, i, speak, agent, person]      [whats, up]    [thank]  \n",
       "3                [talk, human, please]  [good, morning]   [thanks]  \n",
       "4  [let, me, talk, to, apple, support]  [good, evening]     [done]  "
      ]
     },
     "execution_count": 52,
     "metadata": {},
     "output_type": "execute_result"
    }
   ],
   "source": [
    "## storing the intents \n",
    "train = pd.DataFrame()\n",
    "\n",
    "# adding to the train df\n",
    "for intent_name, itag in intents_tags.items():\n",
    "    train[intent_name] = generate_intent(1000, itag)\n",
    "\n",
    "\n",
    "manually_added_intents = {\n",
    "    'speak_representative': [['talk','human','please'],\n",
    "                             ['let','me','talk','to','apple','support'], \n",
    "                             ['can','i','speak','agent','person']], \n",
    "    'greeting': [['hi'],['hello'], ['whats','up'], ['good','morning'],\n",
    "                 ['good','evening'], ['good','night']],\n",
    "    'goodbye': [['goodbye'],['bye'],['thank'],['thanks'], ['done']] }\n",
    "\n",
    "\n",
    "# Updating training data\n",
    "for intent_name in manually_added_intents.keys():\n",
    "    train[intent_name] = insert_manually(1000, [*manually_added_intents[intent_name]])\n",
    "\n",
    "# 3. Adding in the new intents\n",
    "\n",
    "new_intents = {'update':(300,700,[['want','update'], ['update','not','working'], \n",
    "                                     ['phone','need','update']], \n",
    "                            intents_tags['update']),\n",
    "                  'info': (800,200, [['need','information'], \n",
    "                                       ['want','to','know','about'], ['what','are','macbook','stats'],\n",
    "                                    ['any','info','next','release','?']], \n",
    "                             intents_tags['info']),\n",
    "                  'forgot_password': (600,400, [['forgot','my','pass'], ['forgot','my','login'\n",
    "                                ,'details'], ['cannot','log','in','password'],['lost','account','recover','password']], \n",
    "                             intents_tags['forgot_password'])\n",
    "                 }\n",
    "# Updating training data\n",
    "for intent_name, args in new_intents.items():\n",
    "    train[intent_name] = insert_hybrid(*args)\n",
    "\n",
    "training = pd.DataFrame(train.T.unstack()).reset_index().iloc[:,1:].rename(columns={'level_1':'Intent', 0: 'Utterance'})\n",
    "# Reordering\n",
    "training = training[['Utterance','Intent']]\n",
    "\n",
    "\n",
    "print(train.shape)\n",
    "train.head()"
   ]
  },
  {
   "cell_type": "code",
   "execution_count": 49,
   "id": "current-passing",
   "metadata": {},
   "outputs": [
    {
     "data": {
      "text/html": [
       "<div>\n",
       "<style scoped>\n",
       "    .dataframe tbody tr th:only-of-type {\n",
       "        vertical-align: middle;\n",
       "    }\n",
       "\n",
       "    .dataframe tbody tr th {\n",
       "        vertical-align: top;\n",
       "    }\n",
       "\n",
       "    .dataframe thead th {\n",
       "        text-align: right;\n",
       "    }\n",
       "</style>\n",
       "<table border=\"1\" class=\"dataframe\">\n",
       "  <thead>\n",
       "    <tr style=\"text-align: right;\">\n",
       "      <th></th>\n",
       "      <th>Utterance</th>\n",
       "      <th>Intent</th>\n",
       "    </tr>\n",
       "  </thead>\n",
       "  <tbody>\n",
       "    <tr>\n",
       "      <th>0</th>\n",
       "      <td>[want, update]</td>\n",
       "      <td>update</td>\n",
       "    </tr>\n",
       "    <tr>\n",
       "      <th>1</th>\n",
       "      <td>[forgot, my, pass]</td>\n",
       "      <td>forgot_password</td>\n",
       "    </tr>\n",
       "    <tr>\n",
       "      <th>2</th>\n",
       "      <td>[need, information]</td>\n",
       "      <td>info</td>\n",
       "    </tr>\n",
       "    <tr>\n",
       "      <th>3</th>\n",
       "      <td>[since, updating, 11, 1, battery, life, 6s, ab...</td>\n",
       "      <td>battery</td>\n",
       "    </tr>\n",
       "    <tr>\n",
       "      <th>4</th>\n",
       "      <td>[188, 37613, 11968, 37614, solution, chat, sid...</td>\n",
       "      <td>location</td>\n",
       "    </tr>\n",
       "  </tbody>\n",
       "</table>\n",
       "</div>"
      ],
      "text/plain": [
       "                                           Utterance           Intent\n",
       "0                                     [want, update]           update\n",
       "1                                 [forgot, my, pass]  forgot_password\n",
       "2                                [need, information]             info\n",
       "3  [since, updating, 11, 1, battery, life, 6s, ab...          battery\n",
       "4  [188, 37613, 11968, 37614, solution, chat, sid...         location"
      ]
     },
     "execution_count": 49,
     "metadata": {},
     "output_type": "execute_result"
    }
   ],
   "source": [
    "training.head()"
   ]
  },
  {
   "cell_type": "markdown",
   "id": "cleared-briefs",
   "metadata": {},
   "source": [
    "## Modeling"
   ]
  },
  {
   "cell_type": "code",
   "execution_count": 54,
   "id": "purple-maintenance",
   "metadata": {},
   "outputs": [],
   "source": [
    "X = training['Utterance']\n",
    "y = training['Intent']\n",
    "X_train, X_test, y_train, y_test = train_test_split(X, y, shuffle = True, stratify = y, random_state = 42, test_size = 0.20)"
   ]
  },
  {
   "cell_type": "markdown",
   "id": "dangerous-bloom",
   "metadata": {},
   "source": [
    "https://blog.keras.io/using-pre-trained-word-embeddings-in-a-keras-model.html\n",
    "- Using word embedding in the model"
   ]
  },
  {
   "cell_type": "code",
   "execution_count": 55,
   "id": "turned-binding",
   "metadata": {},
   "outputs": [],
   "source": [
    "### make the labels into number for the modeling\n",
    "from sklearn.preprocessing import LabelEncoder\n",
    "le = LabelEncoder()\n",
    "le.fit(y_train)\n",
    "y_train = le.transform(y_train)\n",
    "y_test = le.transform(y_test)"
   ]
  },
  {
   "cell_type": "code",
   "execution_count": 56,
   "id": "fundamental-breed",
   "metadata": {},
   "outputs": [
    {
     "data": {
      "text/plain": [
       "39"
      ]
     },
     "execution_count": 56,
     "metadata": {},
     "output_type": "execute_result"
    }
   ],
   "source": [
    "max_length = len(max(X_train, key = len))\n",
    "max_length"
   ]
  },
  {
   "cell_type": "code",
   "execution_count": 57,
   "id": "judicial-candle",
   "metadata": {},
   "outputs": [
    {
     "data": {
      "text/plain": [
       "4656"
      ]
     },
     "execution_count": 57,
     "metadata": {},
     "output_type": "execute_result"
    }
   ],
   "source": [
    "## for the modeling we need to convert the words into number for the X as well\n",
    "## Use pad_sequences to convert it\n",
    "token = Tokenizer()\n",
    "token.fit_on_texts(X_train)\n",
    "X_train = pad_sequences(token.texts_to_sequences(X_train), maxlen = 32, padding = 'post')\n",
    "X_test = pad_sequences(token.texts_to_sequences(X_test), maxlen = 32, padding = 'post')\n",
    "vocab_size = len(token.word_counts) + 1\n",
    "vocab_size"
   ]
  },
  {
   "cell_type": "code",
   "execution_count": 58,
   "id": "fresh-encoding",
   "metadata": {},
   "outputs": [
    {
     "data": {
      "text/plain": [
       "((7200, 32), (1800, 32))"
      ]
     },
     "execution_count": 58,
     "metadata": {},
     "output_type": "execute_result"
    }
   ],
   "source": [
    "X_train.shape, X_test.shape"
   ]
  },
  {
   "cell_type": "markdown",
   "id": "embedded-therapy",
   "metadata": {},
   "source": [
    "https://nlp.stanford.edu/projects/glove/\n",
    "- pre-trained word vector for twitter \n",
    "- https://www.kaggle.com/baodier/glovetwitter27b50dtxt"
   ]
  },
  {
   "cell_type": "code",
   "execution_count": 59,
   "id": "basic-uncertainty",
   "metadata": {},
   "outputs": [
    {
     "name": "stdout",
     "output_type": "stream",
     "text": [
      "Found 1193514 word vectors.\n"
     ]
    }
   ],
   "source": [
    "# Using gloVe word embeddings\n",
    "embeddings_index = {}\n",
    "f = open('glove.twitter.27B.50d.txt', encoding = 'utf8')\n",
    "for line in f:\n",
    "    values = line.split()\n",
    "    word = values[0]\n",
    "    coefs = np.asarray(values[1:], dtype='float32')\n",
    "    embeddings_index[word] = coefs\n",
    "f.close()\n",
    "\n",
    "print('Found %s word vectors.' % len(embeddings_index))"
   ]
  },
  {
   "cell_type": "code",
   "execution_count": 60,
   "id": "certified-brisbane",
   "metadata": {},
   "outputs": [],
   "source": [
    "word_index = token.word_index\n",
    "EMBEDDING_DIM = 50 # Because we are using the 50D gloVe embeddings\n",
    "\n",
    "# Getting my embedding matrix\n",
    "embedding_matrix = np.zeros((len(word_index) + 1, EMBEDDING_DIM))\n",
    "for word, i in word_index.items():\n",
    "    embedding_vector = embeddings_index.get(word)\n",
    "    if embedding_vector is not None:\n",
    "        # words not found in embedding index will be all-zeros.\n",
    "        embedding_matrix[i] = embedding_vector"
   ]
  },
  {
   "cell_type": "code",
   "execution_count": 61,
   "id": "proved-running",
   "metadata": {},
   "outputs": [
    {
     "data": {
      "text/plain": [
       "(array([[ 0.        ,  0.        ,  0.        , ...,  0.        ,\n",
       "          0.        ,  0.        ],\n",
       "        [ 0.36294001, -0.26519001, -1.30439997, ..., -0.22002   ,\n",
       "         -0.74168998,  0.56022   ],\n",
       "        [ 0.51418   , -0.19196001, -0.79962999, ..., -0.34937999,\n",
       "         -1.08060002,  0.60174   ],\n",
       "        ...,\n",
       "        [-0.66701001, -0.38519999,  0.42500001, ..., -0.41330999,\n",
       "          0.41679001, -0.31400001],\n",
       "        [ 0.2243    ,  0.16221   , -0.18559   , ...,  0.22480001,\n",
       "          0.42104   , -0.14382   ],\n",
       "        [-0.57239997, -0.45877001,  0.067503  , ..., -0.33575001,\n",
       "          0.1743    ,  1.29509997]]),\n",
       " (4656, 50))"
      ]
     },
     "execution_count": 61,
     "metadata": {},
     "output_type": "execute_result"
    }
   ],
   "source": [
    "embedding_matrix, embedding_matrix.shape"
   ]
  },
  {
   "cell_type": "code",
   "execution_count": 117,
   "id": "instructional-guyana",
   "metadata": {},
   "outputs": [
    {
     "name": "stdout",
     "output_type": "stream",
     "text": [
      "model is created\n"
     ]
    }
   ],
   "source": [
    "## Training the model\n",
    "model = Sequential()\n",
    "# Adding layers - For embedding layer, I made sure to add my embedding matrix into the weights paramater\n",
    "model.add(Embedding(vocab_size, embedding_matrix.shape[1], input_length = 32, \n",
    "                        trainable = False, weights = [embedding_matrix]))\n",
    "    \n",
    "model.add(Bidirectional(LSTM(128)))\n",
    "\n",
    "model.add(Dense(600, activation = \"relu\",kernel_regularizer ='l2')) \n",
    "    \n",
    "# Adding another dense layer to increase model complexity\n",
    "model.add(Dense(600, activation = \"relu\",kernel_regularizer ='l2'))\n",
    "    \n",
    "# Only update 50 percent of the nodes - helps with overfitting\n",
    "model.add(Dropout(0.5))\n",
    "    \n",
    "# This last layer should be the size of the number of your intents!\n",
    "model.add(Dense(10, activation = \"softmax\"))\n",
    "print(\"model is created\")"
   ]
  },
  {
   "cell_type": "code",
   "execution_count": 118,
   "id": "intermediate-dancing",
   "metadata": {},
   "outputs": [
    {
     "name": "stdout",
     "output_type": "stream",
     "text": [
      "Model: \"sequential_2\"\n",
      "_________________________________________________________________\n",
      "Layer (type)                 Output Shape              Param #   \n",
      "=================================================================\n",
      "embedding_2 (Embedding)      (None, 32, 50)            232800    \n",
      "_________________________________________________________________\n",
      "bidirectional_2 (Bidirection (None, 256)               183296    \n",
      "_________________________________________________________________\n",
      "dense_6 (Dense)              (None, 600)               154200    \n",
      "_________________________________________________________________\n",
      "dense_7 (Dense)              (None, 600)               360600    \n",
      "_________________________________________________________________\n",
      "dropout_2 (Dropout)          (None, 600)               0         \n",
      "_________________________________________________________________\n",
      "dense_8 (Dense)              (None, 10)                6010      \n",
      "=================================================================\n",
      "Total params: 936,906\n",
      "Trainable params: 704,106\n",
      "Non-trainable params: 232,800\n",
      "_________________________________________________________________\n"
     ]
    }
   ],
   "source": [
    "model.compile(loss = \"sparse_categorical_crossentropy\", \n",
    "              optimizer = \"adam\", metrics = [\"accuracy\"])\n",
    "model.summary()"
   ]
  },
  {
   "cell_type": "code",
   "execution_count": 119,
   "id": "rapid-imagination",
   "metadata": {},
   "outputs": [
    {
     "name": "stdout",
     "output_type": "stream",
     "text": [
      "Epoch 1/20\n",
      "1440/1440 [==============================] - 23s 16ms/step - loss: 0.9847 - accuracy: 0.8203 - val_loss: 0.4508 - val_accuracy: 0.9122\n",
      "Epoch 2/20\n",
      "1440/1440 [==============================] - 23s 16ms/step - loss: 0.4044 - accuracy: 0.9122 - val_loss: 0.3606 - val_accuracy: 0.9144\n",
      "Epoch 3/20\n",
      "1440/1440 [==============================] - 22s 15ms/step - loss: 0.3228 - accuracy: 0.9243 - val_loss: 0.2847 - val_accuracy: 0.9272\n",
      "Epoch 4/20\n",
      "1440/1440 [==============================] - 20s 14ms/step - loss: 0.2681 - accuracy: 0.9375 - val_loss: 0.2898 - val_accuracy: 0.9128\n",
      "Epoch 5/20\n",
      "1440/1440 [==============================] - 23s 16ms/step - loss: 0.2246 - accuracy: 0.9472 - val_loss: 0.2403 - val_accuracy: 0.9406\n",
      "Epoch 6/20\n",
      "1440/1440 [==============================] - 21s 15ms/step - loss: 0.1918 - accuracy: 0.9581 - val_loss: 0.2549 - val_accuracy: 0.9350\n",
      "Epoch 7/20\n",
      "1440/1440 [==============================] - 22s 16ms/step - loss: 0.1658 - accuracy: 0.9636 - val_loss: 0.2256 - val_accuracy: 0.9400\n",
      "Epoch 8/20\n",
      "1440/1440 [==============================] - 22s 15ms/step - loss: 0.1445 - accuracy: 0.9704 - val_loss: 0.2515 - val_accuracy: 0.9328\n",
      "Epoch 9/20\n",
      "1440/1440 [==============================] - 22s 15ms/step - loss: 0.1242 - accuracy: 0.9760 - val_loss: 0.2377 - val_accuracy: 0.9333\n",
      "Epoch 10/20\n",
      "1440/1440 [==============================] - 22s 15ms/step - loss: 0.1123 - accuracy: 0.9804 - val_loss: 0.2693 - val_accuracy: 0.9311\n",
      "Epoch 11/20\n",
      "1440/1440 [==============================] - 22s 15ms/step - loss: 0.0909 - accuracy: 0.9851 - val_loss: 0.3130 - val_accuracy: 0.9228\n",
      "Epoch 12/20\n",
      "1440/1440 [==============================] - 22s 15ms/step - loss: 0.0895 - accuracy: 0.9864 - val_loss: 0.2594 - val_accuracy: 0.9400\n",
      "Epoch 13/20\n",
      "1440/1440 [==============================] - 21s 15ms/step - loss: 0.0707 - accuracy: 0.9903 - val_loss: 0.2653 - val_accuracy: 0.9378\n",
      "Epoch 14/20\n",
      "1440/1440 [==============================] - 22s 15ms/step - loss: 0.0683 - accuracy: 0.9915 - val_loss: 0.3202 - val_accuracy: 0.9322\n",
      "Epoch 15/20\n",
      "1440/1440 [==============================] - 22s 15ms/step - loss: 0.0735 - accuracy: 0.9911 - val_loss: 0.2861 - val_accuracy: 0.9356\n",
      "Epoch 16/20\n",
      "1440/1440 [==============================] - 23s 16ms/step - loss: 0.0542 - accuracy: 0.9954 - val_loss: 0.2476 - val_accuracy: 0.9411\n",
      "Epoch 17/20\n",
      "1440/1440 [==============================] - 22s 15ms/step - loss: 0.0415 - accuracy: 0.9974 - val_loss: 0.3417 - val_accuracy: 0.9294\n",
      "Epoch 18/20\n",
      "1440/1440 [==============================] - 22s 16ms/step - loss: 0.0698 - accuracy: 0.9918 - val_loss: 0.2983 - val_accuracy: 0.9322\n",
      "Epoch 19/20\n",
      "1440/1440 [==============================] - 21s 15ms/step - loss: 0.0622 - accuracy: 0.9911 - val_loss: 0.3262 - val_accuracy: 0.9339\n",
      "Epoch 20/20\n",
      "1440/1440 [==============================] - 22s 15ms/step - loss: 0.0512 - accuracy: 0.9951 - val_loss: 0.2854 - val_accuracy: 0.9350\n"
     ]
    }
   ],
   "source": [
    "hist = model.fit(X_train, y_train, epochs=20, batch_size=5, verbose=1, validation_data = (X_test, y_test))\n",
    "model.save('applebot_model.h5', hist)"
   ]
  },
  {
   "cell_type": "code",
   "execution_count": 116,
   "id": "rural-breast",
   "metadata": {},
   "outputs": [],
   "source": [
    "hist.history"
   ]
  },
  {
   "cell_type": "code",
   "execution_count": 121,
   "id": "surprised-exercise",
   "metadata": {},
   "outputs": [
    {
     "data": {
      "image/png": "[encoded data removed]",
      "text/plain": [
       "<Figure size 864x576 with 1 Axes>"
      ]
     },
     "metadata": {
      "needs_background": "light"
     },
     "output_type": "display_data"
    }
   ],
   "source": [
    "# Check out our train loss and test loss over epochs.\n",
    "train_loss = hist.history['loss']\n",
    "test_loss = hist.history['val_loss']\n",
    "epoch_labels = hist.epoch\n",
    "\n",
    "# Set figure size.\n",
    "plt.figure(figsize=(12, 8))\n",
    "\n",
    "# Generate line plot of training, testing loss over epochs.\n",
    "plt.plot(train_loss, label='Training Loss', color='#185fad')\n",
    "plt.plot(test_loss, label='Testing Loss', color='orange')\n",
    "\n",
    "# Set title\n",
    "plt.title('Training and Testing Loss by Epoch', fontsize=25)\n",
    "plt.xlabel('Epoch', fontsize=18)\n",
    "plt.ylabel('Loss', fontsize=18)\n",
    "plt.xticks(epoch_labels, epoch_labels)    # ticks, labels\n",
    "\n",
    "plt.legend(fontsize=18);\n",
    "plt.savefig('Training_Loss.png')"
   ]
  },
  {
   "cell_type": "code",
   "execution_count": 122,
   "id": "descending-yahoo",
   "metadata": {},
   "outputs": [
    {
     "data": {
      "image/png": "[encoded data removed]",
      "text/plain": [
       "<Figure size 1152x648 with 1 Axes>"
      ]
     },
     "metadata": {
      "needs_background": "light"
     },
     "output_type": "display_data"
    }
   ],
   "source": [
    "# Visualizing Testing Accuracy vs Validation Accuracy\n",
    "plt.figure(figsize=(16,9))\n",
    "plt.plot(hist.history['accuracy'], label = 'Training Acc.')\n",
    "plt.plot(hist.history['val_accuracy'], label = 'Test Acc.')\n",
    "plt.title('Training Accuracy vs Validation Accuracy', fontsize = 25)\n",
    "plt.xlabel('Epochs', fontsize = 18)\n",
    "plt.ylabel('Accuracy', fontsize = 18)\n",
    "plt.legend()\n",
    "plt.savefig('Accuracy.png')\n",
    "plt.show()"
   ]
  }
 ],
 "metadata": {
  "kernelspec": {
   "display_name": "env_chat_bot",
   "language": "python",
   "name": "env_chat_bot"
  },
  "language_info": {
   "codemirror_mode": {
    "name": "ipython",
    "version": 3
   },
   "file_extension": ".py",
   "mimetype": "text/x-python",
   "name": "python",
   "nbconvert_exporter": "python",
   "pygments_lexer": "ipython3",
   "version": "3.8.5"
  }
 },
 "nbformat": 4,
 "nbformat_minor": 5
}
